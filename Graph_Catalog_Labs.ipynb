{
  "cells": [
    {
      "cell_type": "markdown",
      "source": [
        "# **Environment Setup**"
      ],
      "metadata": {
        "id": "3ryjHYOLvt2u"
      },
      "id": "3ryjHYOLvt2u"
    },
    {
      "cell_type": "code",
      "execution_count": null,
      "id": "bcc107b9-fb49-4546-80a2-beffe6954eb7",
      "metadata": {
        "id": "bcc107b9-fb49-4546-80a2-beffe6954eb7"
      },
      "outputs": [],
      "source": [
        "try:\n",
        "    from graphdatascience import GraphDataScience\n",
        "except:\n",
        "    !pip install graphdatascience\n",
        "    from graphdatascience import GraphDataScience\n",
        "\n",
        "from graphdatascience.session import SessionMemory, DbmsConnectionInfo, GdsSessions, AuraAPICredentials, AlgorithmCategory\n",
        "from datetime import timedelta\n",
        "from getpass import getpass"
      ]
    },
    {
      "cell_type": "markdown",
      "id": "e29e0ea9-03be-4582-8450-9212ba10483c",
      "metadata": {
        "id": "e29e0ea9-03be-4582-8450-9212ba10483c"
      },
      "source": [
        "# **Connect to GDS**"
      ]
    },
    {
      "cell_type": "markdown",
      "source": [
        "Enter your Aura API credentials to be used for creating the compute for your GDS session."
      ],
      "metadata": {
        "id": "ldy0u_OOQpqp"
      },
      "id": "ldy0u_OOQpqp"
    },
    {
      "cell_type": "code",
      "source": [
        "client_id = getpass(\"Aura client id\")\n",
        "client_secret = getpass(\"Aura client secret\")"
      ],
      "metadata": {
        "colab": {
          "base_uri": "https://localhost:8080/"
        },
        "id": "wYJDe26FQzKB",
        "outputId": "4dca6c19-997a-49db-90e3-e08ecbf90b3d"
      },
      "id": "wYJDe26FQzKB",
      "execution_count": null,
      "outputs": [
        {
          "name": "stdout",
          "output_type": "stream",
          "text": [
            "Aura client id··········\n",
            "Aura client secret··········\n"
          ]
        }
      ]
    },
    {
      "cell_type": "markdown",
      "source": [
        "Create the sessions object.\n"
      ],
      "metadata": {
        "id": "4wuXELs028-U"
      },
      "id": "4wuXELs028-U"
    },
    {
      "cell_type": "code",
      "source": [
        "sessions = GdsSessions(api_credentials=AuraAPICredentials(client_id, client_secret))"
      ],
      "metadata": {
        "id": "g3Loh7prRNua"
      },
      "id": "g3Loh7prRNua",
      "execution_count": null,
      "outputs": []
    },
    {
      "cell_type": "markdown",
      "source": [
        "Enter the connection information for your source database."
      ],
      "metadata": {
        "id": "Y_F46lQu23np"
      },
      "id": "Y_F46lQu23np"
    },
    {
      "cell_type": "code",
      "execution_count": null,
      "id": "808f60cb-ce2a-4c7b-ae11-ae06191994af",
      "metadata": {
        "id": "808f60cb-ce2a-4c7b-ae11-ae06191994af",
        "colab": {
          "base_uri": "https://localhost:8080/"
        },
        "outputId": "5774414b-042b-42b2-996c-9e08ba5eba89"
      },
      "outputs": [
        {
          "name": "stdout",
          "output_type": "stream",
          "text": [
            "database user··········\n",
            "database password··········\n"
          ]
        }
      ],
      "source": [
        "db_uri = \"neo4j+s://81c642ac.databases.neo4j.io\"\n",
        "db_user = getpass(\"database user\")\n",
        "db_password = getpass(\"database password\")"
      ]
    },
    {
      "cell_type": "markdown",
      "source": [
        "Estimate the RAM for the session that we will create."
      ],
      "metadata": {
        "id": "jeQsIDQqRgtm"
      },
      "id": "jeQsIDQqRgtm"
    },
    {
      "cell_type": "code",
      "source": [
        "memory = sessions.estimate(\n",
        "    node_count=900000,\n",
        "    relationship_count=4000000,\n",
        "    algorithm_categories=[AlgorithmCategory.CENTRALITY],\n",
        ")"
      ],
      "metadata": {
        "id": "LPZ4uYq4RdJ_"
      },
      "id": "LPZ4uYq4RdJ_",
      "execution_count": null,
      "outputs": []
    },
    {
      "cell_type": "markdown",
      "source": [
        "Create the session."
      ],
      "metadata": {
        "id": "AU6mplV4TXlh"
      },
      "id": "AU6mplV4TXlh"
    },
    {
      "cell_type": "code",
      "execution_count": null,
      "id": "0ef45914-3857-42de-9f5c-49d0ff0d3737",
      "metadata": {
        "id": "0ef45914-3857-42de-9f5c-49d0ff0d3737"
      },
      "outputs": [],
      "source": [
        "db_connection = DbmsConnectionInfo(db_uri, db_user, db_password)\n",
        "gds = sessions.get_or_create(\n",
        "    session_name=\"graph_catalog_lab\",\n",
        "    memory=memory,\n",
        "    ttl=timedelta(minutes=45),\n",
        "    db_connection=db_connection\n",
        ")"
      ]
    },
    {
      "cell_type": "markdown",
      "id": "f2af3744-feec-4291-94cf-b76651a27d36",
      "metadata": {
        "id": "f2af3744-feec-4291-94cf-b76651a27d36"
      },
      "source": [
        "# **Exercise 1: Simple projections**"
      ]
    },
    {
      "cell_type": "markdown",
      "source": [
        "### 1a: Create an in-memory graph projection that contains Article nodes and CITES relationships\n",
        "Projection to GDS session documentation: https://neo4j.com/docs/graph-data-science-client/current/gds-session/#_syntax_2\n",
        "\n",
        "Explore the graph with Neo4j Browser in a separate tab if you don't recall the data model"
      ],
      "metadata": {
        "id": "dNAmXItW4L2r"
      },
      "id": "dNAmXItW4L2r"
    },
    {
      "cell_type": "code",
      "source": [
        "query = \"\"\"your code here\"\"\"\n",
        "\n",
        "g_citations, result = gds.graph.project(\"citations\", query)"
      ],
      "metadata": {
        "id": "YA3mMNhP4fa5"
      },
      "id": "YA3mMNhP4fa5",
      "execution_count": null,
      "outputs": []
    },
    {
      "cell_type": "code",
      "execution_count": null,
      "id": "1cd51d93-3a39-45cf-9edc-cd8e3ea7eb11",
      "metadata": {
        "id": "1cd51d93-3a39-45cf-9edc-cd8e3ea7eb11",
        "outputId": "1e57fee4-d05a-4c94-a1cd-d8c06d6cc0a6",
        "colab": {
          "base_uri": "https://localhost:8080/",
          "height": 242,
          "referenced_widgets": [
            "970df6c93c3f48f9b1185bb5ecc4f5b3",
            "899b003dbef14f06ac78c4b298987b33",
            "527af7fba9c644dc9ac38d5c9945fc01",
            "e446e21b4398461ca7e78c8f13688720",
            "7e6340c4b25b4c2e877102f7da10c3e6",
            "896719b1d587476d92f3bce2d39201bc",
            "a408a42aee934eb5bb7a763afa4d378f",
            "56e8ea8039b84ae685a6cfb988ead9ad",
            "6fc7cc59ff7f4ca29a2dd6d15dc27007",
            "7fa52e0a3c1941a68fb8ca7fe0e5a912",
            "c73761b4b1ec42a5b0e39a5fa174d4d2"
          ]
        },
        "cellView": "form"
      },
      "outputs": [
        {
          "output_type": "display_data",
          "data": {
            "text/plain": [
              " Graph creation from Triplets:   0%|          | 0/100 [00:00<?, ?%/s]"
            ],
            "application/vnd.jupyter.widget-view+json": {
              "version_major": 2,
              "version_minor": 0,
              "model_id": "970df6c93c3f48f9b1185bb5ecc4f5b3"
            }
          },
          "metadata": {}
        },
        {
          "output_type": "execute_result",
          "data": {
            "text/plain": [
              "nodeCount                                                        73810\n",
              "relationshipCount                                               134778\n",
              "status                                                            DONE\n",
              "host                 p-81c642ac-dfef-0006.production-orch-0996.neo4...\n",
              "Name: 0, dtype: object"
            ],
            "text/html": [
              "<div>\n",
              "<style scoped>\n",
              "    .dataframe tbody tr th:only-of-type {\n",
              "        vertical-align: middle;\n",
              "    }\n",
              "\n",
              "    .dataframe tbody tr th {\n",
              "        vertical-align: top;\n",
              "    }\n",
              "\n",
              "    .dataframe thead th {\n",
              "        text-align: right;\n",
              "    }\n",
              "</style>\n",
              "<table border=\"1\" class=\"dataframe\">\n",
              "  <thead>\n",
              "    <tr style=\"text-align: right;\">\n",
              "      <th></th>\n",
              "      <th>0</th>\n",
              "    </tr>\n",
              "  </thead>\n",
              "  <tbody>\n",
              "    <tr>\n",
              "      <th>nodeCount</th>\n",
              "      <td>73810</td>\n",
              "    </tr>\n",
              "    <tr>\n",
              "      <th>relationshipCount</th>\n",
              "      <td>134778</td>\n",
              "    </tr>\n",
              "    <tr>\n",
              "      <th>status</th>\n",
              "      <td>DONE</td>\n",
              "    </tr>\n",
              "    <tr>\n",
              "      <th>host</th>\n",
              "      <td>p-81c642ac-dfef-0006.production-orch-0996.neo4...</td>\n",
              "    </tr>\n",
              "  </tbody>\n",
              "</table>\n",
              "</div><br><label><b>dtype:</b> object</label>"
            ]
          },
          "metadata": {},
          "execution_count": 55
        }
      ],
      "source": [
        "#@title Solution:\n",
        "query = \"\"\"MATCH (a1:Article)-[:CITES]->(a2:Article) RETURN gds.graph.project.remote(a1, a2)\"\"\"\n",
        "\n",
        "g_citations, result = gds.graph.project(\"citations\", query)\n",
        "\n",
        "result"
      ]
    },
    {
      "cell_type": "markdown",
      "source": [
        "Validate that the memory usage, node count, relationship count,and included properties of the projected graph are as expected:"
      ],
      "metadata": {
        "id": "sMlkLLxX4o4L"
      },
      "id": "sMlkLLxX4o4L"
    },
    {
      "cell_type": "code",
      "execution_count": null,
      "id": "84bedc7d-2c07-44cb-a3fe-af31bd6d0d93",
      "metadata": {
        "id": "84bedc7d-2c07-44cb-a3fe-af31bd6d0d93",
        "outputId": "a289a229-b951-47b1-eb26-647abe12d458",
        "colab": {
          "base_uri": "https://localhost:8080/",
          "height": 35
        }
      },
      "outputs": [
        {
          "output_type": "execute_result",
          "data": {
            "text/plain": [
              "'9646 KiB'"
            ],
            "application/vnd.google.colaboratory.intrinsic+json": {
              "type": "string"
            }
          },
          "metadata": {},
          "execution_count": 56
        }
      ],
      "source": [
        "g_citations.memory_usage()"
      ]
    },
    {
      "cell_type": "code",
      "execution_count": null,
      "id": "1aa74218-e97d-4d42-8ee1-724c92ed5b47",
      "metadata": {
        "id": "1aa74218-e97d-4d42-8ee1-724c92ed5b47",
        "outputId": "63783bc2-122a-4310-8e03-16e78d858c17",
        "colab": {
          "base_uri": "https://localhost:8080/"
        }
      },
      "outputs": [
        {
          "output_type": "execute_result",
          "data": {
            "text/plain": [
              "np.int64(73810)"
            ]
          },
          "metadata": {},
          "execution_count": 57
        }
      ],
      "source": [
        "g_citations.node_count()"
      ]
    },
    {
      "cell_type": "code",
      "execution_count": null,
      "id": "5eae4618-d874-4b32-bcdf-912ee767d3a3",
      "metadata": {
        "id": "5eae4618-d874-4b32-bcdf-912ee767d3a3",
        "outputId": "75ea1af6-0992-4b04-c4a0-794df665c9ac",
        "colab": {
          "base_uri": "https://localhost:8080/"
        }
      },
      "outputs": [
        {
          "output_type": "execute_result",
          "data": {
            "text/plain": [
              "np.int64(134778)"
            ]
          },
          "metadata": {},
          "execution_count": 58
        }
      ],
      "source": [
        "g_citations.relationship_count()"
      ]
    },
    {
      "cell_type": "markdown",
      "id": "45a29272-a8f9-4ee7-ad49-1286ab4dfc68",
      "metadata": {
        "id": "45a29272-a8f9-4ee7-ad49-1286ab4dfc68"
      },
      "source": [
        "###1b: Create a projection that contains Author nodes, Article nodes, and WROTE relationships. Use a data configuration map in your projeciton Cypher query to include the Author and Article node labels as part of the projection.\n",
        "\n",
        "See this documentation for data configuration syntax: https://neo4j.com/docs/graph-data-science/current/management-ops/graph-creation/graph-project-cypher-projection/#graph-project-cypher-projection-syntax"
      ]
    },
    {
      "cell_type": "code",
      "source": [
        "query = \"\"\"your code here\"\"\"\n",
        "\n",
        "g_author_article, result = #your code here"
      ],
      "metadata": {
        "id": "VRQZyZkW5I_V"
      },
      "id": "VRQZyZkW5I_V",
      "execution_count": null,
      "outputs": []
    },
    {
      "cell_type": "code",
      "execution_count": null,
      "id": "bf88ec43-13da-4e03-973f-9b6843509c2f",
      "metadata": {
        "id": "bf88ec43-13da-4e03-973f-9b6843509c2f",
        "outputId": "e069ff6f-d3e7-4626-90b5-1102891d21ab",
        "colab": {
          "base_uri": "https://localhost:8080/",
          "height": 242,
          "referenced_widgets": [
            "0c7637f60e0347bdb07341f339939aa7",
            "ebd3abf1137d438dac43b01c5389fd90",
            "23a12e59269d460a8682fb1520314d14",
            "58d251408bc0491980804b0cdd68c5c6",
            "23ce99c3074a49e1b3ecb39dd475b83e",
            "7114716bb4784a71947cec10953d0074",
            "a4a9b663ad8a42de80b6c646623942fd",
            "0bfe018e0d274e5cad1583107b1b60f5",
            "6959cb4ee1224a3bab8105fb2ad57237",
            "ce237060b5fd485eb20a5eb27c6232f2",
            "ac0c21a79004458b8868aae0f61f01a0"
          ]
        },
        "cellView": "form"
      },
      "outputs": [
        {
          "output_type": "display_data",
          "data": {
            "text/plain": [
              " Graph creation from Triplets:   0%|          | 0/100 [00:00<?, ?%/s]"
            ],
            "application/vnd.jupyter.widget-view+json": {
              "version_major": 2,
              "version_minor": 0,
              "model_id": "0c7637f60e0347bdb07341f339939aa7"
            }
          },
          "metadata": {}
        },
        {
          "output_type": "execute_result",
          "data": {
            "text/plain": [
              "nodeCount                                                       860743\n",
              "relationshipCount                                              1118301\n",
              "status                                                            DONE\n",
              "host                 p-81c642ac-dfef-0006.production-orch-0996.neo4...\n",
              "Name: 0, dtype: object"
            ],
            "text/html": [
              "<div>\n",
              "<style scoped>\n",
              "    .dataframe tbody tr th:only-of-type {\n",
              "        vertical-align: middle;\n",
              "    }\n",
              "\n",
              "    .dataframe tbody tr th {\n",
              "        vertical-align: top;\n",
              "    }\n",
              "\n",
              "    .dataframe thead th {\n",
              "        text-align: right;\n",
              "    }\n",
              "</style>\n",
              "<table border=\"1\" class=\"dataframe\">\n",
              "  <thead>\n",
              "    <tr style=\"text-align: right;\">\n",
              "      <th></th>\n",
              "      <th>0</th>\n",
              "    </tr>\n",
              "  </thead>\n",
              "  <tbody>\n",
              "    <tr>\n",
              "      <th>nodeCount</th>\n",
              "      <td>860743</td>\n",
              "    </tr>\n",
              "    <tr>\n",
              "      <th>relationshipCount</th>\n",
              "      <td>1118301</td>\n",
              "    </tr>\n",
              "    <tr>\n",
              "      <th>status</th>\n",
              "      <td>DONE</td>\n",
              "    </tr>\n",
              "    <tr>\n",
              "      <th>host</th>\n",
              "      <td>p-81c642ac-dfef-0006.production-orch-0996.neo4...</td>\n",
              "    </tr>\n",
              "  </tbody>\n",
              "</table>\n",
              "</div><br><label><b>dtype:</b> object</label>"
            ]
          },
          "metadata": {},
          "execution_count": 59
        }
      ],
      "source": [
        "#@title Solution:\n",
        "query = \"\"\"cypher runtime=parallel\n",
        "           MATCH (au:Author)-[:WROTE]->(ar:Article)\n",
        "           RETURN gds.graph.project.remote(\n",
        "                au, ar,\n",
        "                {\n",
        "                  sourceNodeLabels: \"Author\",\n",
        "                  targetNodeLabels: \"Article\"\n",
        "                })\"\"\"\n",
        "\n",
        "g_author_article, result = gds.graph.project(\"author_article\", query)\n",
        "result"
      ]
    },
    {
      "cell_type": "markdown",
      "source": [
        "Validate that the memory usage, node count, relationship count,and included properties of the projected graph are as expected:"
      ],
      "metadata": {
        "id": "43mVS6Or7zX9"
      },
      "id": "43mVS6Or7zX9"
    },
    {
      "cell_type": "code",
      "execution_count": null,
      "id": "c01a1db2-b432-4fa5-8e57-5b8ebbd33002",
      "metadata": {
        "id": "c01a1db2-b432-4fa5-8e57-5b8ebbd33002",
        "outputId": "13302e2e-4764-4d80-af2a-f9c105e91b3e",
        "colab": {
          "base_uri": "https://localhost:8080/",
          "height": 35
        }
      },
      "outputs": [
        {
          "output_type": "execute_result",
          "data": {
            "text/plain": [
              "'52 MiB'"
            ],
            "application/vnd.google.colaboratory.intrinsic+json": {
              "type": "string"
            }
          },
          "metadata": {},
          "execution_count": 60
        }
      ],
      "source": [
        "g_author_article.memory_usage()"
      ]
    },
    {
      "cell_type": "code",
      "execution_count": null,
      "id": "b4221053-7a3b-49fd-a3e3-a6c81d19c827",
      "metadata": {
        "id": "b4221053-7a3b-49fd-a3e3-a6c81d19c827",
        "outputId": "b3a9b0cf-44f5-4275-ef73-dc7980164904",
        "colab": {
          "base_uri": "https://localhost:8080/"
        }
      },
      "outputs": [
        {
          "output_type": "execute_result",
          "data": {
            "text/plain": [
              "np.int64(860743)"
            ]
          },
          "metadata": {},
          "execution_count": 61
        }
      ],
      "source": [
        "g_author_article.node_count()"
      ]
    },
    {
      "cell_type": "code",
      "execution_count": null,
      "id": "b03ca987-ce1f-4244-9557-b0d1cafaace0",
      "metadata": {
        "id": "b03ca987-ce1f-4244-9557-b0d1cafaace0",
        "outputId": "150f65c8-550d-4f81-fe18-856f96326006",
        "colab": {
          "base_uri": "https://localhost:8080/"
        }
      },
      "outputs": [
        {
          "output_type": "execute_result",
          "data": {
            "text/plain": [
              "np.int64(1118301)"
            ]
          },
          "metadata": {},
          "execution_count": 62
        }
      ],
      "source": [
        "g_author_article.relationship_count()"
      ]
    },
    {
      "cell_type": "markdown",
      "id": "a0bb29e3-0c82-4217-8988-bc285bc94b0e",
      "metadata": {
        "id": "a0bb29e3-0c82-4217-8988-bc285bc94b0e"
      },
      "source": [
        "# **Exercise 2: Projection with calculated properties and undirected relationships**"
      ]
    },
    {
      "cell_type": "markdown",
      "source": [
        "### 2a: Create a projection that includes Journal nodes, Author nodes, and PUBLISHED_IN relationships.\n",
        "If there are multiple relationships between an Author and a Journal, project them as a single relationship with a *publicationCount* property representing the number of relationships. Remember that you can use a Cypher `WITH` clause to calculate values before passsing them to `gds.graph.project.remote()`.\n",
        "\n",
        "See this documentation for the Cypher `WITH` clause:\n",
        "https://neo4j.com/docs/cypher-manual/current/clauses/with/"
      ],
      "metadata": {
        "id": "YyCebHa6-DZY"
      },
      "id": "YyCebHa6-DZY"
    },
    {
      "cell_type": "code",
      "source": [
        "query = \"\"\"your code here\"\"\"\n",
        "\n",
        "g_author_journal, result = #your code here"
      ],
      "metadata": {
        "id": "aI8b8i5R8N-I"
      },
      "id": "aI8b8i5R8N-I",
      "execution_count": null,
      "outputs": []
    },
    {
      "cell_type": "code",
      "execution_count": null,
      "id": "8ae851ef-8a83-4594-ba7d-4f230075bbff",
      "metadata": {
        "id": "8ae851ef-8a83-4594-ba7d-4f230075bbff",
        "outputId": "5959282f-2e4c-4cd8-abf9-e852c226ae31",
        "colab": {
          "base_uri": "https://localhost:8080/",
          "height": 242,
          "referenced_widgets": [
            "17400492d1794f1a93fb243f08c01af9",
            "9e5e6188987f4d1cb55a33fbcfe485f1",
            "f7587ca464b14e66abb665d777ff9fce",
            "69a6ae828b8b46c2a3acae4bc468b441",
            "e548daa318f94e7bbd982a64aae2a49c",
            "97ea1791b5d54fb3a1c9a6a2efa76990",
            "9cb0e6bbf0764b339e10f0ba213b7260",
            "9dc06aadc34540dfb560a7f2e359ac14",
            "a0e98f7c1133464ca478606523f40178",
            "63833e8c5f2644158f1d66617dd92d19",
            "2c54649016e646ab983193fec7dc91a0"
          ]
        },
        "cellView": "form"
      },
      "outputs": [
        {
          "output_type": "display_data",
          "data": {
            "text/plain": [
              " Graph creation from Triplets:   0%|          | 0/100 [00:00<?, ?%/s]"
            ],
            "application/vnd.jupyter.widget-view+json": {
              "version_major": 2,
              "version_minor": 0,
              "model_id": "17400492d1794f1a93fb243f08c01af9"
            }
          },
          "metadata": {}
        },
        {
          "output_type": "execute_result",
          "data": {
            "text/plain": [
              "nodeCount                                                       428507\n",
              "relationshipCount                                               857934\n",
              "status                                                            DONE\n",
              "host                 p-81c642ac-dfef-0006.production-orch-0996.neo4...\n",
              "Name: 0, dtype: object"
            ],
            "text/html": [
              "<div>\n",
              "<style scoped>\n",
              "    .dataframe tbody tr th:only-of-type {\n",
              "        vertical-align: middle;\n",
              "    }\n",
              "\n",
              "    .dataframe tbody tr th {\n",
              "        vertical-align: top;\n",
              "    }\n",
              "\n",
              "    .dataframe thead th {\n",
              "        text-align: right;\n",
              "    }\n",
              "</style>\n",
              "<table border=\"1\" class=\"dataframe\">\n",
              "  <thead>\n",
              "    <tr style=\"text-align: right;\">\n",
              "      <th></th>\n",
              "      <th>0</th>\n",
              "    </tr>\n",
              "  </thead>\n",
              "  <tbody>\n",
              "    <tr>\n",
              "      <th>nodeCount</th>\n",
              "      <td>428507</td>\n",
              "    </tr>\n",
              "    <tr>\n",
              "      <th>relationshipCount</th>\n",
              "      <td>857934</td>\n",
              "    </tr>\n",
              "    <tr>\n",
              "      <th>status</th>\n",
              "      <td>DONE</td>\n",
              "    </tr>\n",
              "    <tr>\n",
              "      <th>host</th>\n",
              "      <td>p-81c642ac-dfef-0006.production-orch-0996.neo4...</td>\n",
              "    </tr>\n",
              "  </tbody>\n",
              "</table>\n",
              "</div><br><label><b>dtype:</b> object</label>"
            ]
          },
          "metadata": {},
          "execution_count": 63
        }
      ],
      "source": [
        "#@title Solution:\n",
        "query = \"\"\"cypher runtime=parallel\n",
        "           MATCH (a:Author)-[:PUBLISHED_IN]->(j:Journal)\n",
        "           WITH a, j, count(*) AS publicationCount\n",
        "           RETURN gds.graph.project.remote(\n",
        "                a, j,\n",
        "                {\n",
        "                  sourceNodeLabels: \"Author\",\n",
        "                  targetNodeLabels: \"Article\",\n",
        "                  relationshipType: \"PUBLISHED_IN\",\n",
        "                  relationshipProperties: {publicationCount: publicationCount}\n",
        "                })\"\"\"\n",
        "\n",
        "\n",
        "g_author_journal, result = gds.graph.project(\"author_journal\", query)\n",
        "\n",
        "result"
      ]
    },
    {
      "cell_type": "markdown",
      "source": [
        "###Check output the minimum, maximum, and average number of times an author has published in each journal, as well as the total number of PUBLISHED_IN relationships after aggregation."
      ],
      "metadata": {
        "id": "QQzJf-Nv8ZOI"
      },
      "id": "QQzJf-Nv8ZOI"
    },
    {
      "cell_type": "code",
      "source": [
        "pub_count_df = gds.graph.relationshipProperty.stream(g_author_journal, \"publicationCount\", [\"PUBLISHED_IN\"])"
      ],
      "metadata": {
        "id": "L6-kVvgPZgRS"
      },
      "id": "L6-kVvgPZgRS",
      "execution_count": null,
      "outputs": []
    },
    {
      "cell_type": "code",
      "source": [
        "pub_count_df['propertyValue'].describe()"
      ],
      "metadata": {
        "colab": {
          "base_uri": "https://localhost:8080/",
          "height": 335
        },
        "id": "AoCCTgCPZ6C_",
        "outputId": "97b9a8b8-e8be-43c4-86d4-485793628449"
      },
      "id": "AoCCTgCPZ6C_",
      "execution_count": null,
      "outputs": [
        {
          "output_type": "execute_result",
          "data": {
            "text/plain": [
              "count    857934.0\n",
              "mean     1.303481\n",
              "std       1.00338\n",
              "min           1.0\n",
              "25%           1.0\n",
              "50%           1.0\n",
              "75%           1.0\n",
              "max          87.0\n",
              "Name: propertyValue, dtype: double[pyarrow]"
            ],
            "text/html": [
              "<div>\n",
              "<style scoped>\n",
              "    .dataframe tbody tr th:only-of-type {\n",
              "        vertical-align: middle;\n",
              "    }\n",
              "\n",
              "    .dataframe tbody tr th {\n",
              "        vertical-align: top;\n",
              "    }\n",
              "\n",
              "    .dataframe thead th {\n",
              "        text-align: right;\n",
              "    }\n",
              "</style>\n",
              "<table border=\"1\" class=\"dataframe\">\n",
              "  <thead>\n",
              "    <tr style=\"text-align: right;\">\n",
              "      <th></th>\n",
              "      <th>propertyValue</th>\n",
              "    </tr>\n",
              "  </thead>\n",
              "  <tbody>\n",
              "    <tr>\n",
              "      <th>count</th>\n",
              "      <td>857934.0</td>\n",
              "    </tr>\n",
              "    <tr>\n",
              "      <th>mean</th>\n",
              "      <td>1.303481</td>\n",
              "    </tr>\n",
              "    <tr>\n",
              "      <th>std</th>\n",
              "      <td>1.00338</td>\n",
              "    </tr>\n",
              "    <tr>\n",
              "      <th>min</th>\n",
              "      <td>1.0</td>\n",
              "    </tr>\n",
              "    <tr>\n",
              "      <th>25%</th>\n",
              "      <td>1.0</td>\n",
              "    </tr>\n",
              "    <tr>\n",
              "      <th>50%</th>\n",
              "      <td>1.0</td>\n",
              "    </tr>\n",
              "    <tr>\n",
              "      <th>75%</th>\n",
              "      <td>1.0</td>\n",
              "    </tr>\n",
              "    <tr>\n",
              "      <th>max</th>\n",
              "      <td>87.0</td>\n",
              "    </tr>\n",
              "  </tbody>\n",
              "</table>\n",
              "</div><br><label><b>dtype:</b> double[pyarrow]</label>"
            ]
          },
          "metadata": {},
          "execution_count": 65
        }
      ]
    },
    {
      "cell_type": "markdown",
      "id": "31098616-2b08-4933-b836-7818190a81d3",
      "metadata": {
        "id": "31098616-2b08-4933-b836-7818190a81d3"
      },
      "source": [
        "### 2b: Create a new projected graph which includes Article and Author nodes. Change the label of the Author nodes to Person. Also Include the WROTE relationships, but make them undirected.\n",
        "Remote Projection documentation: https://neo4j.com/docs/graph-data-science-client/current/gds-session/#_syntax_2"
      ]
    },
    {
      "cell_type": "code",
      "source": [
        "#your code here"
      ],
      "metadata": {
        "id": "0bVlyKic9ZG-"
      },
      "id": "0bVlyKic9ZG-",
      "execution_count": null,
      "outputs": []
    },
    {
      "cell_type": "code",
      "execution_count": null,
      "id": "9a2e8972-5da4-4e3a-af47-842e7cc5afe2",
      "metadata": {
        "id": "9a2e8972-5da4-4e3a-af47-842e7cc5afe2",
        "outputId": "44e12377-6908-421e-c884-d0361a69bd8b",
        "colab": {
          "base_uri": "https://localhost:8080/",
          "height": 242,
          "referenced_widgets": [
            "efd7b636f7364bdb8408e91224f76c58",
            "0c338c2a48844cfb8efe55ab3030db17",
            "4e2171824b9c40cc8d9c91af38649081",
            "34a4bc11449741cba90ad7e3dbd2d1f0",
            "c1af78a8d506456293efb0c309b1ce37",
            "e3397eb3ad8145db93f08aa48c7e11f7",
            "d731e59937e14967aac161ef3e3c0ca9",
            "a5a3a301c5894ff99307d245c207dc5d",
            "82991275ae9d4ec68c6266999f03ae27",
            "2b6abaa7daaf4061a781dcb0b09f9d54",
            "4472c902aae34926a4afa91a76ad2e8c"
          ]
        },
        "cellView": "form"
      },
      "outputs": [
        {
          "output_type": "display_data",
          "data": {
            "text/plain": [
              " Graph creation from Triplets:   0%|          | 0/100 [00:00<?, ?%/s]"
            ],
            "application/vnd.jupyter.widget-view+json": {
              "version_major": 2,
              "version_minor": 0,
              "model_id": "efd7b636f7364bdb8408e91224f76c58"
            }
          },
          "metadata": {}
        },
        {
          "output_type": "execute_result",
          "data": {
            "text/plain": [
              "nodeCount                                                       860743\n",
              "relationshipCount                                              2236602\n",
              "status                                                            DONE\n",
              "host                 p-81c642ac-dfef-0006.production-orch-0996.neo4...\n",
              "Name: 0, dtype: object"
            ],
            "text/html": [
              "<div>\n",
              "<style scoped>\n",
              "    .dataframe tbody tr th:only-of-type {\n",
              "        vertical-align: middle;\n",
              "    }\n",
              "\n",
              "    .dataframe tbody tr th {\n",
              "        vertical-align: top;\n",
              "    }\n",
              "\n",
              "    .dataframe thead th {\n",
              "        text-align: right;\n",
              "    }\n",
              "</style>\n",
              "<table border=\"1\" class=\"dataframe\">\n",
              "  <thead>\n",
              "    <tr style=\"text-align: right;\">\n",
              "      <th></th>\n",
              "      <th>0</th>\n",
              "    </tr>\n",
              "  </thead>\n",
              "  <tbody>\n",
              "    <tr>\n",
              "      <th>nodeCount</th>\n",
              "      <td>860743</td>\n",
              "    </tr>\n",
              "    <tr>\n",
              "      <th>relationshipCount</th>\n",
              "      <td>2236602</td>\n",
              "    </tr>\n",
              "    <tr>\n",
              "      <th>status</th>\n",
              "      <td>DONE</td>\n",
              "    </tr>\n",
              "    <tr>\n",
              "      <th>host</th>\n",
              "      <td>p-81c642ac-dfef-0006.production-orch-0996.neo4...</td>\n",
              "    </tr>\n",
              "  </tbody>\n",
              "</table>\n",
              "</div><br><label><b>dtype:</b> object</label>"
            ]
          },
          "metadata": {},
          "execution_count": 66
        }
      ],
      "source": [
        "#@title Solution:\n",
        "query = \"\"\"cypher runtime=parallel\n",
        "           MATCH (au:Author)-[:WROTE]->(ar:Article)\n",
        "           RETURN gds.graph.project.remote(\n",
        "              au, ar,\n",
        "              {\n",
        "                sourceNodeLabels: \"Person\",\n",
        "                targetNodeLabels: \"Article\",\n",
        "                relationshipType: \"WROTE\"\n",
        "              }\n",
        "           )\"\"\"\n",
        "\n",
        "g_article_person, result = gds.graph.project(\n",
        "    \"article_person\",\n",
        "    query,\n",
        "    undirected_relationship_types=[\"WROTE\"]\n",
        ")\n",
        "\n",
        "result"
      ]
    },
    {
      "cell_type": "markdown",
      "id": "4e7de107-9b41-4f38-b777-b5aaa45062d9",
      "metadata": {
        "id": "4e7de107-9b41-4f38-b777-b5aaa45062d9"
      },
      "source": [
        "# **Exercise 3: Filtered Cypher projections**\n"
      ]
    },
    {
      "cell_type": "markdown",
      "source": [
        "### 3a Create a graph that that includes Authors and Articles with WROTE relationships, but only for articles that were published in the journal with title *The Journal of biological chemistry*.\n",
        "\n",
        "Start by writing a Cypher query that returns the data as a pandas data frame to validate your Cypher syntax."
      ],
      "metadata": {
        "id": "NCqZKPOweA_W"
      },
      "id": "NCqZKPOweA_W"
    },
    {
      "cell_type": "code",
      "source": [
        "gds.run_cypher(\"\"\"your code here\"\"\")"
      ],
      "metadata": {
        "id": "QWWuhsMmciby"
      },
      "id": "QWWuhsMmciby",
      "execution_count": null,
      "outputs": []
    },
    {
      "cell_type": "code",
      "source": [
        " #@title Solution:\n",
        " gds.run_cypher(\"\"\"\n",
        "    MATCH (j:Journal {title: \"The Journal of biological chemistry\"})<-[:IN_JOURNAL]-(a:Article),\n",
        "      (au:Author)-[:WROTE]->(a)\n",
        "    RETURN au.fullName, a.title, j.title\n",
        "\"\"\")"
      ],
      "metadata": {
        "colab": {
          "base_uri": "https://localhost:8080/",
          "height": 424
        },
        "id": "c4uWER4xzHKN",
        "outputId": "c85a7422-5bd4-4279-f876-19633c87d867",
        "cellView": "form"
      },
      "execution_count": null,
      "outputs": [
        {
          "output_type": "execute_result",
          "data": {
            "text/plain": [
              "             au.fullName                                            a.title  \\\n",
              "0          D L Brautigan  Correlation of the kinetics of electron transf...   \n",
              "1           E Margoliash  Correlation of the kinetics of electron transf...   \n",
              "2      S Ferguson-Miller  Correlation of the kinetics of electron transf...   \n",
              "3               R Warren  Transfer of the hepatocyte receptor for serum ...   \n",
              "4                D Doyle  Transfer of the hepatocyte receptor for serum ...   \n",
              "...                  ...                                                ...   \n",
              "11742       J H Mulligan  Transport and metabolism of vitamin B6 in Salm...   \n",
              "11743         T Tsuchiya  Calcium transport driven by a proton gradient ...   \n",
              "11744          B P Rosen  Calcium transport driven by a proton gradient ...   \n",
              "11745            B Shane  Transport and metabolism of vitamin B6 in the ...   \n",
              "11746          E E Snell  Transport and metabolism of vitamin B6 in the ...   \n",
              "\n",
              "                                   j.title  \n",
              "0      The Journal of biological chemistry  \n",
              "1      The Journal of biological chemistry  \n",
              "2      The Journal of biological chemistry  \n",
              "3      The Journal of biological chemistry  \n",
              "4      The Journal of biological chemistry  \n",
              "...                                    ...  \n",
              "11742  The Journal of biological chemistry  \n",
              "11743  The Journal of biological chemistry  \n",
              "11744  The Journal of biological chemistry  \n",
              "11745  The Journal of biological chemistry  \n",
              "11746  The Journal of biological chemistry  \n",
              "\n",
              "[11747 rows x 3 columns]"
            ],
            "text/html": [
              "\n",
              "  <div id=\"df-e51f3175-4f55-4a06-8845-efb3f4fa57b2\" class=\"colab-df-container\">\n",
              "    <div>\n",
              "<style scoped>\n",
              "    .dataframe tbody tr th:only-of-type {\n",
              "        vertical-align: middle;\n",
              "    }\n",
              "\n",
              "    .dataframe tbody tr th {\n",
              "        vertical-align: top;\n",
              "    }\n",
              "\n",
              "    .dataframe thead th {\n",
              "        text-align: right;\n",
              "    }\n",
              "</style>\n",
              "<table border=\"1\" class=\"dataframe\">\n",
              "  <thead>\n",
              "    <tr style=\"text-align: right;\">\n",
              "      <th></th>\n",
              "      <th>au.fullName</th>\n",
              "      <th>a.title</th>\n",
              "      <th>j.title</th>\n",
              "    </tr>\n",
              "  </thead>\n",
              "  <tbody>\n",
              "    <tr>\n",
              "      <th>0</th>\n",
              "      <td>D L Brautigan</td>\n",
              "      <td>Correlation of the kinetics of electron transf...</td>\n",
              "      <td>The Journal of biological chemistry</td>\n",
              "    </tr>\n",
              "    <tr>\n",
              "      <th>1</th>\n",
              "      <td>E Margoliash</td>\n",
              "      <td>Correlation of the kinetics of electron transf...</td>\n",
              "      <td>The Journal of biological chemistry</td>\n",
              "    </tr>\n",
              "    <tr>\n",
              "      <th>2</th>\n",
              "      <td>S Ferguson-Miller</td>\n",
              "      <td>Correlation of the kinetics of electron transf...</td>\n",
              "      <td>The Journal of biological chemistry</td>\n",
              "    </tr>\n",
              "    <tr>\n",
              "      <th>3</th>\n",
              "      <td>R Warren</td>\n",
              "      <td>Transfer of the hepatocyte receptor for serum ...</td>\n",
              "      <td>The Journal of biological chemistry</td>\n",
              "    </tr>\n",
              "    <tr>\n",
              "      <th>4</th>\n",
              "      <td>D Doyle</td>\n",
              "      <td>Transfer of the hepatocyte receptor for serum ...</td>\n",
              "      <td>The Journal of biological chemistry</td>\n",
              "    </tr>\n",
              "    <tr>\n",
              "      <th>...</th>\n",
              "      <td>...</td>\n",
              "      <td>...</td>\n",
              "      <td>...</td>\n",
              "    </tr>\n",
              "    <tr>\n",
              "      <th>11742</th>\n",
              "      <td>J H Mulligan</td>\n",
              "      <td>Transport and metabolism of vitamin B6 in Salm...</td>\n",
              "      <td>The Journal of biological chemistry</td>\n",
              "    </tr>\n",
              "    <tr>\n",
              "      <th>11743</th>\n",
              "      <td>T Tsuchiya</td>\n",
              "      <td>Calcium transport driven by a proton gradient ...</td>\n",
              "      <td>The Journal of biological chemistry</td>\n",
              "    </tr>\n",
              "    <tr>\n",
              "      <th>11744</th>\n",
              "      <td>B P Rosen</td>\n",
              "      <td>Calcium transport driven by a proton gradient ...</td>\n",
              "      <td>The Journal of biological chemistry</td>\n",
              "    </tr>\n",
              "    <tr>\n",
              "      <th>11745</th>\n",
              "      <td>B Shane</td>\n",
              "      <td>Transport and metabolism of vitamin B6 in the ...</td>\n",
              "      <td>The Journal of biological chemistry</td>\n",
              "    </tr>\n",
              "    <tr>\n",
              "      <th>11746</th>\n",
              "      <td>E E Snell</td>\n",
              "      <td>Transport and metabolism of vitamin B6 in the ...</td>\n",
              "      <td>The Journal of biological chemistry</td>\n",
              "    </tr>\n",
              "  </tbody>\n",
              "</table>\n",
              "<p>11747 rows × 3 columns</p>\n",
              "</div>\n",
              "    <div class=\"colab-df-buttons\">\n",
              "\n",
              "  <div class=\"colab-df-container\">\n",
              "    <button class=\"colab-df-convert\" onclick=\"convertToInteractive('df-e51f3175-4f55-4a06-8845-efb3f4fa57b2')\"\n",
              "            title=\"Convert this dataframe to an interactive table.\"\n",
              "            style=\"display:none;\">\n",
              "\n",
              "  <svg xmlns=\"http://www.w3.org/2000/svg\" height=\"24px\" viewBox=\"0 -960 960 960\">\n",
              "    <path d=\"M120-120v-720h720v720H120Zm60-500h600v-160H180v160Zm220 220h160v-160H400v160Zm0 220h160v-160H400v160ZM180-400h160v-160H180v160Zm440 0h160v-160H620v160ZM180-180h160v-160H180v160Zm440 0h160v-160H620v160Z\"/>\n",
              "  </svg>\n",
              "    </button>\n",
              "\n",
              "  <style>\n",
              "    .colab-df-container {\n",
              "      display:flex;\n",
              "      gap: 12px;\n",
              "    }\n",
              "\n",
              "    .colab-df-convert {\n",
              "      background-color: #E8F0FE;\n",
              "      border: none;\n",
              "      border-radius: 50%;\n",
              "      cursor: pointer;\n",
              "      display: none;\n",
              "      fill: #1967D2;\n",
              "      height: 32px;\n",
              "      padding: 0 0 0 0;\n",
              "      width: 32px;\n",
              "    }\n",
              "\n",
              "    .colab-df-convert:hover {\n",
              "      background-color: #E2EBFA;\n",
              "      box-shadow: 0px 1px 2px rgba(60, 64, 67, 0.3), 0px 1px 3px 1px rgba(60, 64, 67, 0.15);\n",
              "      fill: #174EA6;\n",
              "    }\n",
              "\n",
              "    .colab-df-buttons div {\n",
              "      margin-bottom: 4px;\n",
              "    }\n",
              "\n",
              "    [theme=dark] .colab-df-convert {\n",
              "      background-color: #3B4455;\n",
              "      fill: #D2E3FC;\n",
              "    }\n",
              "\n",
              "    [theme=dark] .colab-df-convert:hover {\n",
              "      background-color: #434B5C;\n",
              "      box-shadow: 0px 1px 3px 1px rgba(0, 0, 0, 0.15);\n",
              "      filter: drop-shadow(0px 1px 2px rgba(0, 0, 0, 0.3));\n",
              "      fill: #FFFFFF;\n",
              "    }\n",
              "  </style>\n",
              "\n",
              "    <script>\n",
              "      const buttonEl =\n",
              "        document.querySelector('#df-e51f3175-4f55-4a06-8845-efb3f4fa57b2 button.colab-df-convert');\n",
              "      buttonEl.style.display =\n",
              "        google.colab.kernel.accessAllowed ? 'block' : 'none';\n",
              "\n",
              "      async function convertToInteractive(key) {\n",
              "        const element = document.querySelector('#df-e51f3175-4f55-4a06-8845-efb3f4fa57b2');\n",
              "        const dataTable =\n",
              "          await google.colab.kernel.invokeFunction('convertToInteractive',\n",
              "                                                    [key], {});\n",
              "        if (!dataTable) return;\n",
              "\n",
              "        const docLinkHtml = 'Like what you see? Visit the ' +\n",
              "          '<a target=\"_blank\" href=https://colab.research.google.com/notebooks/data_table.ipynb>data table notebook</a>'\n",
              "          + ' to learn more about interactive tables.';\n",
              "        element.innerHTML = '';\n",
              "        dataTable['output_type'] = 'display_data';\n",
              "        await google.colab.output.renderOutput(dataTable, element);\n",
              "        const docLink = document.createElement('div');\n",
              "        docLink.innerHTML = docLinkHtml;\n",
              "        element.appendChild(docLink);\n",
              "      }\n",
              "    </script>\n",
              "  </div>\n",
              "\n",
              "\n",
              "    <div id=\"df-5899080a-2bb5-4355-9998-115828c2ba61\">\n",
              "      <button class=\"colab-df-quickchart\" onclick=\"quickchart('df-5899080a-2bb5-4355-9998-115828c2ba61')\"\n",
              "                title=\"Suggest charts\"\n",
              "                style=\"display:none;\">\n",
              "\n",
              "<svg xmlns=\"http://www.w3.org/2000/svg\" height=\"24px\"viewBox=\"0 0 24 24\"\n",
              "     width=\"24px\">\n",
              "    <g>\n",
              "        <path d=\"M19 3H5c-1.1 0-2 .9-2 2v14c0 1.1.9 2 2 2h14c1.1 0 2-.9 2-2V5c0-1.1-.9-2-2-2zM9 17H7v-7h2v7zm4 0h-2V7h2v10zm4 0h-2v-4h2v4z\"/>\n",
              "    </g>\n",
              "</svg>\n",
              "      </button>\n",
              "\n",
              "<style>\n",
              "  .colab-df-quickchart {\n",
              "      --bg-color: #E8F0FE;\n",
              "      --fill-color: #1967D2;\n",
              "      --hover-bg-color: #E2EBFA;\n",
              "      --hover-fill-color: #174EA6;\n",
              "      --disabled-fill-color: #AAA;\n",
              "      --disabled-bg-color: #DDD;\n",
              "  }\n",
              "\n",
              "  [theme=dark] .colab-df-quickchart {\n",
              "      --bg-color: #3B4455;\n",
              "      --fill-color: #D2E3FC;\n",
              "      --hover-bg-color: #434B5C;\n",
              "      --hover-fill-color: #FFFFFF;\n",
              "      --disabled-bg-color: #3B4455;\n",
              "      --disabled-fill-color: #666;\n",
              "  }\n",
              "\n",
              "  .colab-df-quickchart {\n",
              "    background-color: var(--bg-color);\n",
              "    border: none;\n",
              "    border-radius: 50%;\n",
              "    cursor: pointer;\n",
              "    display: none;\n",
              "    fill: var(--fill-color);\n",
              "    height: 32px;\n",
              "    padding: 0;\n",
              "    width: 32px;\n",
              "  }\n",
              "\n",
              "  .colab-df-quickchart:hover {\n",
              "    background-color: var(--hover-bg-color);\n",
              "    box-shadow: 0 1px 2px rgba(60, 64, 67, 0.3), 0 1px 3px 1px rgba(60, 64, 67, 0.15);\n",
              "    fill: var(--button-hover-fill-color);\n",
              "  }\n",
              "\n",
              "  .colab-df-quickchart-complete:disabled,\n",
              "  .colab-df-quickchart-complete:disabled:hover {\n",
              "    background-color: var(--disabled-bg-color);\n",
              "    fill: var(--disabled-fill-color);\n",
              "    box-shadow: none;\n",
              "  }\n",
              "\n",
              "  .colab-df-spinner {\n",
              "    border: 2px solid var(--fill-color);\n",
              "    border-color: transparent;\n",
              "    border-bottom-color: var(--fill-color);\n",
              "    animation:\n",
              "      spin 1s steps(1) infinite;\n",
              "  }\n",
              "\n",
              "  @keyframes spin {\n",
              "    0% {\n",
              "      border-color: transparent;\n",
              "      border-bottom-color: var(--fill-color);\n",
              "      border-left-color: var(--fill-color);\n",
              "    }\n",
              "    20% {\n",
              "      border-color: transparent;\n",
              "      border-left-color: var(--fill-color);\n",
              "      border-top-color: var(--fill-color);\n",
              "    }\n",
              "    30% {\n",
              "      border-color: transparent;\n",
              "      border-left-color: var(--fill-color);\n",
              "      border-top-color: var(--fill-color);\n",
              "      border-right-color: var(--fill-color);\n",
              "    }\n",
              "    40% {\n",
              "      border-color: transparent;\n",
              "      border-right-color: var(--fill-color);\n",
              "      border-top-color: var(--fill-color);\n",
              "    }\n",
              "    60% {\n",
              "      border-color: transparent;\n",
              "      border-right-color: var(--fill-color);\n",
              "    }\n",
              "    80% {\n",
              "      border-color: transparent;\n",
              "      border-right-color: var(--fill-color);\n",
              "      border-bottom-color: var(--fill-color);\n",
              "    }\n",
              "    90% {\n",
              "      border-color: transparent;\n",
              "      border-bottom-color: var(--fill-color);\n",
              "    }\n",
              "  }\n",
              "</style>\n",
              "\n",
              "      <script>\n",
              "        async function quickchart(key) {\n",
              "          const quickchartButtonEl =\n",
              "            document.querySelector('#' + key + ' button');\n",
              "          quickchartButtonEl.disabled = true;  // To prevent multiple clicks.\n",
              "          quickchartButtonEl.classList.add('colab-df-spinner');\n",
              "          try {\n",
              "            const charts = await google.colab.kernel.invokeFunction(\n",
              "                'suggestCharts', [key], {});\n",
              "          } catch (error) {\n",
              "            console.error('Error during call to suggestCharts:', error);\n",
              "          }\n",
              "          quickchartButtonEl.classList.remove('colab-df-spinner');\n",
              "          quickchartButtonEl.classList.add('colab-df-quickchart-complete');\n",
              "        }\n",
              "        (() => {\n",
              "          let quickchartButtonEl =\n",
              "            document.querySelector('#df-5899080a-2bb5-4355-9998-115828c2ba61 button');\n",
              "          quickchartButtonEl.style.display =\n",
              "            google.colab.kernel.accessAllowed ? 'block' : 'none';\n",
              "        })();\n",
              "      </script>\n",
              "    </div>\n",
              "\n",
              "    </div>\n",
              "  </div>\n"
            ],
            "application/vnd.google.colaboratory.intrinsic+json": {
              "type": "dataframe",
              "summary": "{\n  \"name\": \"\\\"\\\"\\\")\",\n  \"rows\": 11747,\n  \"fields\": [\n    {\n      \"column\": \"au.fullName\",\n      \"properties\": {\n        \"dtype\": \"string\",\n        \"num_unique_values\": 7386,\n        \"samples\": [\n          \"A M Relimpio\",\n          \"C B Srikant\",\n          \"P J Kretschmer\"\n        ],\n        \"semantic_type\": \"\",\n        \"description\": \"\"\n      }\n    },\n    {\n      \"column\": \"a.title\",\n      \"properties\": {\n        \"dtype\": \"category\",\n        \"num_unique_values\": 4132,\n        \"samples\": [\n          \"Detection of calcium-dependent regulatory protein binding components using 125I-labeled calcium-dependent regulatory protein.\",\n          \"Oxidation-reduction potentials of human fetal hemoglobin and gamma chains. Effects of blocking sulfhydryl groups.\",\n          \"Active phosphate ion transport in plasma membrane vesicles isolated from mouse fibroblasts.\"\n        ],\n        \"semantic_type\": \"\",\n        \"description\": \"\"\n      }\n    },\n    {\n      \"column\": \"j.title\",\n      \"properties\": {\n        \"dtype\": \"category\",\n        \"num_unique_values\": 1,\n        \"samples\": [\n          \"The Journal of biological chemistry\"\n        ],\n        \"semantic_type\": \"\",\n        \"description\": \"\"\n      }\n    }\n  ]\n}"
            }
          },
          "metadata": {},
          "execution_count": 67
        }
      ],
      "id": "c4uWER4xzHKN"
    },
    {
      "cell_type": "markdown",
      "source": [
        "### 3b: Modify the query to add a Cypher projection step"
      ],
      "metadata": {
        "id": "b2uKUlb9zo6I"
      },
      "id": "b2uKUlb9zo6I"
    },
    {
      "cell_type": "code",
      "source": [
        "query = \"\"\"your code here\"\"\"\n",
        "\n",
        "g_biochem_authors, result = gds.graph.cypher.project(\"biochem_authors\", query)\n",
        "\n",
        "result"
      ],
      "metadata": {
        "id": "lauSeOBRz_m5"
      },
      "execution_count": null,
      "outputs": [],
      "id": "lauSeOBRz_m5"
    },
    {
      "cell_type": "code",
      "source": [
        "#@title Solution:\n",
        "query = \"\"\"\n",
        "    MATCH (:Journal {title: \"The Journal of biological chemistry\"})<-[:IN_JOURNAL]-(a:Article),\n",
        "      (au:Author)-[:WROTE]->(a)\n",
        "    RETURN gds.graph.project.remote(au, a)\n",
        "\"\"\"\n",
        "g_biochem_authors, result = gds.graph.project(\"biochem_authors\", query)\n",
        "\n",
        "result"
      ],
      "metadata": {
        "colab": {
          "base_uri": "https://localhost:8080/",
          "height": 210
        },
        "id": "FszOxpVs1yGK",
        "outputId": "f0818ebb-e633-404d-d12d-18e680029aba",
        "cellView": "form"
      },
      "id": "FszOxpVs1yGK",
      "execution_count": null,
      "outputs": [
        {
          "output_type": "execute_result",
          "data": {
            "text/plain": [
              "nodeCount                                                        11518\n",
              "relationshipCount                                                11747\n",
              "status                                                            DONE\n",
              "host                 p-81c642ac-dfef-0006.production-orch-0996.neo4...\n",
              "Name: 0, dtype: object"
            ],
            "text/html": [
              "<div>\n",
              "<style scoped>\n",
              "    .dataframe tbody tr th:only-of-type {\n",
              "        vertical-align: middle;\n",
              "    }\n",
              "\n",
              "    .dataframe tbody tr th {\n",
              "        vertical-align: top;\n",
              "    }\n",
              "\n",
              "    .dataframe thead th {\n",
              "        text-align: right;\n",
              "    }\n",
              "</style>\n",
              "<table border=\"1\" class=\"dataframe\">\n",
              "  <thead>\n",
              "    <tr style=\"text-align: right;\">\n",
              "      <th></th>\n",
              "      <th>0</th>\n",
              "    </tr>\n",
              "  </thead>\n",
              "  <tbody>\n",
              "    <tr>\n",
              "      <th>nodeCount</th>\n",
              "      <td>11518</td>\n",
              "    </tr>\n",
              "    <tr>\n",
              "      <th>relationshipCount</th>\n",
              "      <td>11747</td>\n",
              "    </tr>\n",
              "    <tr>\n",
              "      <th>status</th>\n",
              "      <td>DONE</td>\n",
              "    </tr>\n",
              "    <tr>\n",
              "      <th>host</th>\n",
              "      <td>p-81c642ac-dfef-0006.production-orch-0996.neo4...</td>\n",
              "    </tr>\n",
              "  </tbody>\n",
              "</table>\n",
              "</div><br><label><b>dtype:</b> object</label>"
            ]
          },
          "metadata": {},
          "execution_count": 68
        }
      ]
    },
    {
      "cell_type": "markdown",
      "source": [
        "# Exercise 4 (bonus): Implied relationships"
      ],
      "metadata": {
        "id": "FwsBYOIJfHXA"
      },
      "id": "FwsBYOIJfHXA"
    },
    {
      "cell_type": "markdown",
      "source": [
        "## 4a The (:Author)-[:WROTE]->(:Article) graph is a bipartite graph. Transform it into a monoparite graph projection that includes only Article nodes. Include only articles in the journal *The Journal of biological chemistry*.\n",
        "\n",
        "Include an inferred `SHARES_AUTHOR` relationship between articles that have at least one author in common.\n",
        "\n",
        "Because this relationship is logically undirected, filter your results so that the source of the `SHARES_AUTHOR` relationship has a `pmid` property lower than the target of the relationship. This will avoid duplicate relationships. Remember to indicated that the `SHARES_AUTHOR` relationship type is undirected when you create the projection.\n",
        "\n",
        "Include a `sharedAuthorCount` property that indicates the number of shared authors between the papers."
      ],
      "metadata": {
        "id": "SmIl2E0_gbwI"
      },
      "id": "SmIl2E0_gbwI"
    },
    {
      "cell_type": "code",
      "source": [
        "query = \"\"\"your code here\"\"\"\n",
        "\n",
        "g_biochem_authors, result = gds.graph.cypher.project(\"biochem_authors\", query)\n",
        "\n",
        "result"
      ],
      "metadata": {
        "id": "zski0L1FfTsj"
      },
      "id": "zski0L1FfTsj",
      "execution_count": null,
      "outputs": []
    },
    {
      "cell_type": "code",
      "source": [
        "#@title Solution:\n",
        "query = \"\"\"\n",
        "    cypher runtime=parallel\n",
        "    MATCH (j:Journal {title: \"The Journal of biological chemistry\"})<-[:IN_JOURNAL]-(a1:Article),\n",
        "    (a1)<-[:WROTE]-()-[:WROTE]->(a2:Article)-[:IN_JOURNAL]->(j)\n",
        "    WHERE a1.pmid < a2.pmid\n",
        "    WITH a1, a2, count(*) AS sharedAuthorCount\n",
        "    RETURN gds.graph.project.remote(\n",
        "      a1, a2,\n",
        "      {\n",
        "        sourceNodeLabels: \"Article\",\n",
        "        targetNodeLabels: \"Article\",\n",
        "        relationshipType: \"SHARES_AUTHOR\",\n",
        "        relationshipProperties: {sharedAuthorCount: sharedAuthorCount}\n",
        "      }\n",
        "    )\n",
        "\"\"\"\n",
        "\n",
        "g_shared_authors, result = gds.graph.project(\"shared_authors\", query, undirected_relationship_types=[\"SHARES_AUTHOR\"])\n",
        "\n",
        "result"
      ],
      "metadata": {
        "colab": {
          "base_uri": "https://localhost:8080/",
          "height": 242,
          "referenced_widgets": [
            "298f6b0b77be4fd48edd93aa857e4845",
            "c4d5f869305d4709b86455350cbe9cae",
            "9cb3dcb1345947dcba8e40261b6e129d",
            "31ec85ef33d34e0aba4d8463c3cd821a",
            "24ba0d2123954e4e82730ec47809b271",
            "39ba24f136154a49bdeccb8b7f179645",
            "f68aa4f164be48d6bb80e919b4e35bd2",
            "27edbf0f244648e1be3fddb4a2cbf819",
            "22f2451ed43b478ca1f101e861d6a245",
            "219429c336c948e6b077b62dfa6085b3",
            "00a0ff1728c14a5684c482f1fff06888"
          ]
        },
        "id": "AN2bzmXYg0_9",
        "outputId": "ac331813-343e-4482-cf37-e5342a4f2729",
        "cellView": "form"
      },
      "id": "AN2bzmXYg0_9",
      "execution_count": null,
      "outputs": [
        {
          "output_type": "display_data",
          "data": {
            "text/plain": [
              " Graph creation from Triplets:   0%|          | 0/100 [00:00<?, ?%/s]"
            ],
            "application/vnd.jupyter.widget-view+json": {
              "version_major": 2,
              "version_minor": 0,
              "model_id": "298f6b0b77be4fd48edd93aa857e4845"
            }
          },
          "metadata": {}
        },
        {
          "output_type": "execute_result",
          "data": {
            "text/plain": [
              "nodeCount                                                         3287\n",
              "relationshipCount                                                15430\n",
              "status                                                            DONE\n",
              "host                 p-81c642ac-dfef-0006.production-orch-0996.neo4...\n",
              "Name: 0, dtype: object"
            ],
            "text/html": [
              "<div>\n",
              "<style scoped>\n",
              "    .dataframe tbody tr th:only-of-type {\n",
              "        vertical-align: middle;\n",
              "    }\n",
              "\n",
              "    .dataframe tbody tr th {\n",
              "        vertical-align: top;\n",
              "    }\n",
              "\n",
              "    .dataframe thead th {\n",
              "        text-align: right;\n",
              "    }\n",
              "</style>\n",
              "<table border=\"1\" class=\"dataframe\">\n",
              "  <thead>\n",
              "    <tr style=\"text-align: right;\">\n",
              "      <th></th>\n",
              "      <th>0</th>\n",
              "    </tr>\n",
              "  </thead>\n",
              "  <tbody>\n",
              "    <tr>\n",
              "      <th>nodeCount</th>\n",
              "      <td>3287</td>\n",
              "    </tr>\n",
              "    <tr>\n",
              "      <th>relationshipCount</th>\n",
              "      <td>15430</td>\n",
              "    </tr>\n",
              "    <tr>\n",
              "      <th>status</th>\n",
              "      <td>DONE</td>\n",
              "    </tr>\n",
              "    <tr>\n",
              "      <th>host</th>\n",
              "      <td>p-81c642ac-dfef-0006.production-orch-0996.neo4...</td>\n",
              "    </tr>\n",
              "  </tbody>\n",
              "</table>\n",
              "</div><br><label><b>dtype:</b> object</label>"
            ]
          },
          "metadata": {},
          "execution_count": 70
        }
      ]
    },
    {
      "cell_type": "markdown",
      "id": "53535960-5b90-4635-890e-adf2df356b17",
      "metadata": {
        "id": "53535960-5b90-4635-890e-adf2df356b17"
      },
      "source": [
        "# Exercise 5: Cleaning up the catalog and session"
      ]
    },
    {
      "cell_type": "markdown",
      "source": [
        "### 5a: List all the graphs we have created thus far"
      ],
      "metadata": {
        "id": "S69WUUVzCLQr"
      },
      "id": "S69WUUVzCLQr"
    },
    {
      "cell_type": "code",
      "source": [
        "graph_list = #your code here\n",
        "graph_list"
      ],
      "metadata": {
        "id": "ugX-fWrzCKv3"
      },
      "id": "ugX-fWrzCKv3",
      "execution_count": null,
      "outputs": []
    },
    {
      "cell_type": "code",
      "execution_count": null,
      "id": "65924ee5-52df-4d95-b4cd-0355734a3240",
      "metadata": {
        "id": "65924ee5-52df-4d95-b4cd-0355734a3240",
        "outputId": "0209a62e-56f3-4d6a-961f-b552e18e55a0",
        "colab": {
          "base_uri": "https://localhost:8080/",
          "height": 466
        },
        "cellView": "form"
      },
      "outputs": [
        {
          "output_type": "execute_result",
          "data": {
            "text/plain": [
              "                                  degreeDistribution        graphName  \\\n",
              "0  {'min': 0, 'max': 96, 'p90': 4, 'p999': 25, 'p...   author_journal   \n",
              "1  {'min': 1, 'max': 183, 'p90': 5, 'p999': 34, '...   article_person   \n",
              "2  {'min': 0, 'max': 20, 'p90': 2, 'p999': 14, 'p...  biochem_authors   \n",
              "3  {'min': 0, 'max': 183, 'p90': 3, 'p999': 34, '...   author_article   \n",
              "4  {'min': 1, 'max': 35, 'p90': 11, 'p999': 22, '...   shared_authors   \n",
              "5  {'min': 0, 'max': 146, 'p90': 6, 'p999': 34, '...        citations   \n",
              "\n",
              "  database databaseLocation memoryUsage  sizeInBytes  nodeCount  \\\n",
              "0    neo4j           remote      63 MiB     66692296     428507   \n",
              "1    neo4j           remote      56 MiB     59489456     860743   \n",
              "2    neo4j           remote    4838 KiB      4954120      11518   \n",
              "3    neo4j           remote      52 MiB     55294920     860743   \n",
              "4    neo4j           remote      36 MiB     37977216       3287   \n",
              "5    neo4j           remote    9646 KiB      9878192      73810   \n",
              "\n",
              "   relationshipCount                                      configuration  \\\n",
              "0             857934  {'readConcurrency': 4, 'jobId': '1fc08d71-e338...   \n",
              "1            2236602  {'readConcurrency': 4, 'jobId': '86566ee1-309d...   \n",
              "2              11747  {'readConcurrency': 4, 'jobId': 'ff3ee726-bdc1...   \n",
              "3            1118301  {'readConcurrency': 4, 'jobId': '71fc73eb-bdf2...   \n",
              "4              15430  {'readConcurrency': 4, 'jobId': 'f958baeb-0136...   \n",
              "5             134778  {'readConcurrency': 4, 'jobId': '1eed88e4-7b00...   \n",
              "\n",
              "    density                         creationTime  \\\n",
              "0  0.000005  2025-05-05T22:35:11.174827653+00:00   \n",
              "1  0.000003  2025-05-05T22:35:23.338753288+00:00   \n",
              "2  0.000089  2025-05-05T22:35:34.830329848+00:00   \n",
              "3  0.000002  2025-05-05T22:34:35.339661484+00:00   \n",
              "4  0.001429  2025-05-05T22:35:49.700963864+00:00   \n",
              "5  0.000025  2025-05-05T22:34:21.776084311+00:00   \n",
              "\n",
              "                      modificationTime  \\\n",
              "0  2025-05-05T22:35:11.174827653+00:00   \n",
              "1  2025-05-05T22:35:23.338753288+00:00   \n",
              "2  2025-05-05T22:35:34.830329848+00:00   \n",
              "3  2025-05-05T22:34:35.339661484+00:00   \n",
              "4  2025-05-05T22:35:49.700963864+00:00   \n",
              "5  2025-05-05T22:34:21.776084311+00:00   \n",
              "\n",
              "                                              schema  \\\n",
              "0  {'graphProperties': {}, 'nodes': {'Author': {}...   \n",
              "1  {'graphProperties': {}, 'nodes': {'Person': {}...   \n",
              "2  {'graphProperties': {}, 'nodes': {'__ALL__': {...   \n",
              "3  {'graphProperties': {}, 'nodes': {'Author': {}...   \n",
              "4  {'graphProperties': {}, 'nodes': {'Article': {...   \n",
              "5  {'graphProperties': {}, 'nodes': {'__ALL__': {...   \n",
              "\n",
              "                               schemaWithOrientation  \n",
              "0  {'graphProperties': {}, 'nodes': {'Author': {}...  \n",
              "1  {'graphProperties': {}, 'nodes': {'Person': {}...  \n",
              "2  {'graphProperties': {}, 'nodes': {'__ALL__': {...  \n",
              "3  {'graphProperties': {}, 'nodes': {'Author': {}...  \n",
              "4  {'graphProperties': {}, 'nodes': {'Article': {...  \n",
              "5  {'graphProperties': {}, 'nodes': {'__ALL__': {...  "
            ],
            "text/html": [
              "\n",
              "  <div id=\"df-bfd229b0-7052-4e80-beb7-8f80f97c307c\" class=\"colab-df-container\">\n",
              "    <div>\n",
              "<style scoped>\n",
              "    .dataframe tbody tr th:only-of-type {\n",
              "        vertical-align: middle;\n",
              "    }\n",
              "\n",
              "    .dataframe tbody tr th {\n",
              "        vertical-align: top;\n",
              "    }\n",
              "\n",
              "    .dataframe thead th {\n",
              "        text-align: right;\n",
              "    }\n",
              "</style>\n",
              "<table border=\"1\" class=\"dataframe\">\n",
              "  <thead>\n",
              "    <tr style=\"text-align: right;\">\n",
              "      <th></th>\n",
              "      <th>degreeDistribution</th>\n",
              "      <th>graphName</th>\n",
              "      <th>database</th>\n",
              "      <th>databaseLocation</th>\n",
              "      <th>memoryUsage</th>\n",
              "      <th>sizeInBytes</th>\n",
              "      <th>nodeCount</th>\n",
              "      <th>relationshipCount</th>\n",
              "      <th>configuration</th>\n",
              "      <th>density</th>\n",
              "      <th>creationTime</th>\n",
              "      <th>modificationTime</th>\n",
              "      <th>schema</th>\n",
              "      <th>schemaWithOrientation</th>\n",
              "    </tr>\n",
              "  </thead>\n",
              "  <tbody>\n",
              "    <tr>\n",
              "      <th>0</th>\n",
              "      <td>{'min': 0, 'max': 96, 'p90': 4, 'p999': 25, 'p...</td>\n",
              "      <td>author_journal</td>\n",
              "      <td>neo4j</td>\n",
              "      <td>remote</td>\n",
              "      <td>63 MiB</td>\n",
              "      <td>66692296</td>\n",
              "      <td>428507</td>\n",
              "      <td>857934</td>\n",
              "      <td>{'readConcurrency': 4, 'jobId': '1fc08d71-e338...</td>\n",
              "      <td>0.000005</td>\n",
              "      <td>2025-05-05T22:35:11.174827653+00:00</td>\n",
              "      <td>2025-05-05T22:35:11.174827653+00:00</td>\n",
              "      <td>{'graphProperties': {}, 'nodes': {'Author': {}...</td>\n",
              "      <td>{'graphProperties': {}, 'nodes': {'Author': {}...</td>\n",
              "    </tr>\n",
              "    <tr>\n",
              "      <th>1</th>\n",
              "      <td>{'min': 1, 'max': 183, 'p90': 5, 'p999': 34, '...</td>\n",
              "      <td>article_person</td>\n",
              "      <td>neo4j</td>\n",
              "      <td>remote</td>\n",
              "      <td>56 MiB</td>\n",
              "      <td>59489456</td>\n",
              "      <td>860743</td>\n",
              "      <td>2236602</td>\n",
              "      <td>{'readConcurrency': 4, 'jobId': '86566ee1-309d...</td>\n",
              "      <td>0.000003</td>\n",
              "      <td>2025-05-05T22:35:23.338753288+00:00</td>\n",
              "      <td>2025-05-05T22:35:23.338753288+00:00</td>\n",
              "      <td>{'graphProperties': {}, 'nodes': {'Person': {}...</td>\n",
              "      <td>{'graphProperties': {}, 'nodes': {'Person': {}...</td>\n",
              "    </tr>\n",
              "    <tr>\n",
              "      <th>2</th>\n",
              "      <td>{'min': 0, 'max': 20, 'p90': 2, 'p999': 14, 'p...</td>\n",
              "      <td>biochem_authors</td>\n",
              "      <td>neo4j</td>\n",
              "      <td>remote</td>\n",
              "      <td>4838 KiB</td>\n",
              "      <td>4954120</td>\n",
              "      <td>11518</td>\n",
              "      <td>11747</td>\n",
              "      <td>{'readConcurrency': 4, 'jobId': 'ff3ee726-bdc1...</td>\n",
              "      <td>0.000089</td>\n",
              "      <td>2025-05-05T22:35:34.830329848+00:00</td>\n",
              "      <td>2025-05-05T22:35:34.830329848+00:00</td>\n",
              "      <td>{'graphProperties': {}, 'nodes': {'__ALL__': {...</td>\n",
              "      <td>{'graphProperties': {}, 'nodes': {'__ALL__': {...</td>\n",
              "    </tr>\n",
              "    <tr>\n",
              "      <th>3</th>\n",
              "      <td>{'min': 0, 'max': 183, 'p90': 3, 'p999': 34, '...</td>\n",
              "      <td>author_article</td>\n",
              "      <td>neo4j</td>\n",
              "      <td>remote</td>\n",
              "      <td>52 MiB</td>\n",
              "      <td>55294920</td>\n",
              "      <td>860743</td>\n",
              "      <td>1118301</td>\n",
              "      <td>{'readConcurrency': 4, 'jobId': '71fc73eb-bdf2...</td>\n",
              "      <td>0.000002</td>\n",
              "      <td>2025-05-05T22:34:35.339661484+00:00</td>\n",
              "      <td>2025-05-05T22:34:35.339661484+00:00</td>\n",
              "      <td>{'graphProperties': {}, 'nodes': {'Author': {}...</td>\n",
              "      <td>{'graphProperties': {}, 'nodes': {'Author': {}...</td>\n",
              "    </tr>\n",
              "    <tr>\n",
              "      <th>4</th>\n",
              "      <td>{'min': 1, 'max': 35, 'p90': 11, 'p999': 22, '...</td>\n",
              "      <td>shared_authors</td>\n",
              "      <td>neo4j</td>\n",
              "      <td>remote</td>\n",
              "      <td>36 MiB</td>\n",
              "      <td>37977216</td>\n",
              "      <td>3287</td>\n",
              "      <td>15430</td>\n",
              "      <td>{'readConcurrency': 4, 'jobId': 'f958baeb-0136...</td>\n",
              "      <td>0.001429</td>\n",
              "      <td>2025-05-05T22:35:49.700963864+00:00</td>\n",
              "      <td>2025-05-05T22:35:49.700963864+00:00</td>\n",
              "      <td>{'graphProperties': {}, 'nodes': {'Article': {...</td>\n",
              "      <td>{'graphProperties': {}, 'nodes': {'Article': {...</td>\n",
              "    </tr>\n",
              "    <tr>\n",
              "      <th>5</th>\n",
              "      <td>{'min': 0, 'max': 146, 'p90': 6, 'p999': 34, '...</td>\n",
              "      <td>citations</td>\n",
              "      <td>neo4j</td>\n",
              "      <td>remote</td>\n",
              "      <td>9646 KiB</td>\n",
              "      <td>9878192</td>\n",
              "      <td>73810</td>\n",
              "      <td>134778</td>\n",
              "      <td>{'readConcurrency': 4, 'jobId': '1eed88e4-7b00...</td>\n",
              "      <td>0.000025</td>\n",
              "      <td>2025-05-05T22:34:21.776084311+00:00</td>\n",
              "      <td>2025-05-05T22:34:21.776084311+00:00</td>\n",
              "      <td>{'graphProperties': {}, 'nodes': {'__ALL__': {...</td>\n",
              "      <td>{'graphProperties': {}, 'nodes': {'__ALL__': {...</td>\n",
              "    </tr>\n",
              "  </tbody>\n",
              "</table>\n",
              "</div>\n",
              "    <div class=\"colab-df-buttons\">\n",
              "\n",
              "  <div class=\"colab-df-container\">\n",
              "    <button class=\"colab-df-convert\" onclick=\"convertToInteractive('df-bfd229b0-7052-4e80-beb7-8f80f97c307c')\"\n",
              "            title=\"Convert this dataframe to an interactive table.\"\n",
              "            style=\"display:none;\">\n",
              "\n",
              "  <svg xmlns=\"http://www.w3.org/2000/svg\" height=\"24px\" viewBox=\"0 -960 960 960\">\n",
              "    <path d=\"M120-120v-720h720v720H120Zm60-500h600v-160H180v160Zm220 220h160v-160H400v160Zm0 220h160v-160H400v160ZM180-400h160v-160H180v160Zm440 0h160v-160H620v160ZM180-180h160v-160H180v160Zm440 0h160v-160H620v160Z\"/>\n",
              "  </svg>\n",
              "    </button>\n",
              "\n",
              "  <style>\n",
              "    .colab-df-container {\n",
              "      display:flex;\n",
              "      gap: 12px;\n",
              "    }\n",
              "\n",
              "    .colab-df-convert {\n",
              "      background-color: #E8F0FE;\n",
              "      border: none;\n",
              "      border-radius: 50%;\n",
              "      cursor: pointer;\n",
              "      display: none;\n",
              "      fill: #1967D2;\n",
              "      height: 32px;\n",
              "      padding: 0 0 0 0;\n",
              "      width: 32px;\n",
              "    }\n",
              "\n",
              "    .colab-df-convert:hover {\n",
              "      background-color: #E2EBFA;\n",
              "      box-shadow: 0px 1px 2px rgba(60, 64, 67, 0.3), 0px 1px 3px 1px rgba(60, 64, 67, 0.15);\n",
              "      fill: #174EA6;\n",
              "    }\n",
              "\n",
              "    .colab-df-buttons div {\n",
              "      margin-bottom: 4px;\n",
              "    }\n",
              "\n",
              "    [theme=dark] .colab-df-convert {\n",
              "      background-color: #3B4455;\n",
              "      fill: #D2E3FC;\n",
              "    }\n",
              "\n",
              "    [theme=dark] .colab-df-convert:hover {\n",
              "      background-color: #434B5C;\n",
              "      box-shadow: 0px 1px 3px 1px rgba(0, 0, 0, 0.15);\n",
              "      filter: drop-shadow(0px 1px 2px rgba(0, 0, 0, 0.3));\n",
              "      fill: #FFFFFF;\n",
              "    }\n",
              "  </style>\n",
              "\n",
              "    <script>\n",
              "      const buttonEl =\n",
              "        document.querySelector('#df-bfd229b0-7052-4e80-beb7-8f80f97c307c button.colab-df-convert');\n",
              "      buttonEl.style.display =\n",
              "        google.colab.kernel.accessAllowed ? 'block' : 'none';\n",
              "\n",
              "      async function convertToInteractive(key) {\n",
              "        const element = document.querySelector('#df-bfd229b0-7052-4e80-beb7-8f80f97c307c');\n",
              "        const dataTable =\n",
              "          await google.colab.kernel.invokeFunction('convertToInteractive',\n",
              "                                                    [key], {});\n",
              "        if (!dataTable) return;\n",
              "\n",
              "        const docLinkHtml = 'Like what you see? Visit the ' +\n",
              "          '<a target=\"_blank\" href=https://colab.research.google.com/notebooks/data_table.ipynb>data table notebook</a>'\n",
              "          + ' to learn more about interactive tables.';\n",
              "        element.innerHTML = '';\n",
              "        dataTable['output_type'] = 'display_data';\n",
              "        await google.colab.output.renderOutput(dataTable, element);\n",
              "        const docLink = document.createElement('div');\n",
              "        docLink.innerHTML = docLinkHtml;\n",
              "        element.appendChild(docLink);\n",
              "      }\n",
              "    </script>\n",
              "  </div>\n",
              "\n",
              "\n",
              "    <div id=\"df-68073058-b828-418d-916e-0d5ae8a4ee4f\">\n",
              "      <button class=\"colab-df-quickchart\" onclick=\"quickchart('df-68073058-b828-418d-916e-0d5ae8a4ee4f')\"\n",
              "                title=\"Suggest charts\"\n",
              "                style=\"display:none;\">\n",
              "\n",
              "<svg xmlns=\"http://www.w3.org/2000/svg\" height=\"24px\"viewBox=\"0 0 24 24\"\n",
              "     width=\"24px\">\n",
              "    <g>\n",
              "        <path d=\"M19 3H5c-1.1 0-2 .9-2 2v14c0 1.1.9 2 2 2h14c1.1 0 2-.9 2-2V5c0-1.1-.9-2-2-2zM9 17H7v-7h2v7zm4 0h-2V7h2v10zm4 0h-2v-4h2v4z\"/>\n",
              "    </g>\n",
              "</svg>\n",
              "      </button>\n",
              "\n",
              "<style>\n",
              "  .colab-df-quickchart {\n",
              "      --bg-color: #E8F0FE;\n",
              "      --fill-color: #1967D2;\n",
              "      --hover-bg-color: #E2EBFA;\n",
              "      --hover-fill-color: #174EA6;\n",
              "      --disabled-fill-color: #AAA;\n",
              "      --disabled-bg-color: #DDD;\n",
              "  }\n",
              "\n",
              "  [theme=dark] .colab-df-quickchart {\n",
              "      --bg-color: #3B4455;\n",
              "      --fill-color: #D2E3FC;\n",
              "      --hover-bg-color: #434B5C;\n",
              "      --hover-fill-color: #FFFFFF;\n",
              "      --disabled-bg-color: #3B4455;\n",
              "      --disabled-fill-color: #666;\n",
              "  }\n",
              "\n",
              "  .colab-df-quickchart {\n",
              "    background-color: var(--bg-color);\n",
              "    border: none;\n",
              "    border-radius: 50%;\n",
              "    cursor: pointer;\n",
              "    display: none;\n",
              "    fill: var(--fill-color);\n",
              "    height: 32px;\n",
              "    padding: 0;\n",
              "    width: 32px;\n",
              "  }\n",
              "\n",
              "  .colab-df-quickchart:hover {\n",
              "    background-color: var(--hover-bg-color);\n",
              "    box-shadow: 0 1px 2px rgba(60, 64, 67, 0.3), 0 1px 3px 1px rgba(60, 64, 67, 0.15);\n",
              "    fill: var(--button-hover-fill-color);\n",
              "  }\n",
              "\n",
              "  .colab-df-quickchart-complete:disabled,\n",
              "  .colab-df-quickchart-complete:disabled:hover {\n",
              "    background-color: var(--disabled-bg-color);\n",
              "    fill: var(--disabled-fill-color);\n",
              "    box-shadow: none;\n",
              "  }\n",
              "\n",
              "  .colab-df-spinner {\n",
              "    border: 2px solid var(--fill-color);\n",
              "    border-color: transparent;\n",
              "    border-bottom-color: var(--fill-color);\n",
              "    animation:\n",
              "      spin 1s steps(1) infinite;\n",
              "  }\n",
              "\n",
              "  @keyframes spin {\n",
              "    0% {\n",
              "      border-color: transparent;\n",
              "      border-bottom-color: var(--fill-color);\n",
              "      border-left-color: var(--fill-color);\n",
              "    }\n",
              "    20% {\n",
              "      border-color: transparent;\n",
              "      border-left-color: var(--fill-color);\n",
              "      border-top-color: var(--fill-color);\n",
              "    }\n",
              "    30% {\n",
              "      border-color: transparent;\n",
              "      border-left-color: var(--fill-color);\n",
              "      border-top-color: var(--fill-color);\n",
              "      border-right-color: var(--fill-color);\n",
              "    }\n",
              "    40% {\n",
              "      border-color: transparent;\n",
              "      border-right-color: var(--fill-color);\n",
              "      border-top-color: var(--fill-color);\n",
              "    }\n",
              "    60% {\n",
              "      border-color: transparent;\n",
              "      border-right-color: var(--fill-color);\n",
              "    }\n",
              "    80% {\n",
              "      border-color: transparent;\n",
              "      border-right-color: var(--fill-color);\n",
              "      border-bottom-color: var(--fill-color);\n",
              "    }\n",
              "    90% {\n",
              "      border-color: transparent;\n",
              "      border-bottom-color: var(--fill-color);\n",
              "    }\n",
              "  }\n",
              "</style>\n",
              "\n",
              "      <script>\n",
              "        async function quickchart(key) {\n",
              "          const quickchartButtonEl =\n",
              "            document.querySelector('#' + key + ' button');\n",
              "          quickchartButtonEl.disabled = true;  // To prevent multiple clicks.\n",
              "          quickchartButtonEl.classList.add('colab-df-spinner');\n",
              "          try {\n",
              "            const charts = await google.colab.kernel.invokeFunction(\n",
              "                'suggestCharts', [key], {});\n",
              "          } catch (error) {\n",
              "            console.error('Error during call to suggestCharts:', error);\n",
              "          }\n",
              "          quickchartButtonEl.classList.remove('colab-df-spinner');\n",
              "          quickchartButtonEl.classList.add('colab-df-quickchart-complete');\n",
              "        }\n",
              "        (() => {\n",
              "          let quickchartButtonEl =\n",
              "            document.querySelector('#df-68073058-b828-418d-916e-0d5ae8a4ee4f button');\n",
              "          quickchartButtonEl.style.display =\n",
              "            google.colab.kernel.accessAllowed ? 'block' : 'none';\n",
              "        })();\n",
              "      </script>\n",
              "    </div>\n",
              "\n",
              "  <div id=\"id_7e3303da-5329-4dc5-adf8-2b4eae950675\">\n",
              "    <style>\n",
              "      .colab-df-generate {\n",
              "        background-color: #E8F0FE;\n",
              "        border: none;\n",
              "        border-radius: 50%;\n",
              "        cursor: pointer;\n",
              "        display: none;\n",
              "        fill: #1967D2;\n",
              "        height: 32px;\n",
              "        padding: 0 0 0 0;\n",
              "        width: 32px;\n",
              "      }\n",
              "\n",
              "      .colab-df-generate:hover {\n",
              "        background-color: #E2EBFA;\n",
              "        box-shadow: 0px 1px 2px rgba(60, 64, 67, 0.3), 0px 1px 3px 1px rgba(60, 64, 67, 0.15);\n",
              "        fill: #174EA6;\n",
              "      }\n",
              "\n",
              "      [theme=dark] .colab-df-generate {\n",
              "        background-color: #3B4455;\n",
              "        fill: #D2E3FC;\n",
              "      }\n",
              "\n",
              "      [theme=dark] .colab-df-generate:hover {\n",
              "        background-color: #434B5C;\n",
              "        box-shadow: 0px 1px 3px 1px rgba(0, 0, 0, 0.15);\n",
              "        filter: drop-shadow(0px 1px 2px rgba(0, 0, 0, 0.3));\n",
              "        fill: #FFFFFF;\n",
              "      }\n",
              "    </style>\n",
              "    <button class=\"colab-df-generate\" onclick=\"generateWithVariable('graph_list')\"\n",
              "            title=\"Generate code using this dataframe.\"\n",
              "            style=\"display:none;\">\n",
              "\n",
              "  <svg xmlns=\"http://www.w3.org/2000/svg\" height=\"24px\"viewBox=\"0 0 24 24\"\n",
              "       width=\"24px\">\n",
              "    <path d=\"M7,19H8.4L18.45,9,17,7.55,7,17.6ZM5,21V16.75L18.45,3.32a2,2,0,0,1,2.83,0l1.4,1.43a1.91,1.91,0,0,1,.58,1.4,1.91,1.91,0,0,1-.58,1.4L9.25,21ZM18.45,9,17,7.55Zm-12,3A5.31,5.31,0,0,0,4.9,8.1,5.31,5.31,0,0,0,1,6.5,5.31,5.31,0,0,0,4.9,4.9,5.31,5.31,0,0,0,6.5,1,5.31,5.31,0,0,0,8.1,4.9,5.31,5.31,0,0,0,12,6.5,5.46,5.46,0,0,0,6.5,12Z\"/>\n",
              "  </svg>\n",
              "    </button>\n",
              "    <script>\n",
              "      (() => {\n",
              "      const buttonEl =\n",
              "        document.querySelector('#id_7e3303da-5329-4dc5-adf8-2b4eae950675 button.colab-df-generate');\n",
              "      buttonEl.style.display =\n",
              "        google.colab.kernel.accessAllowed ? 'block' : 'none';\n",
              "\n",
              "      buttonEl.onclick = () => {\n",
              "        google.colab.notebook.generateWithVariable('graph_list');\n",
              "      }\n",
              "      })();\n",
              "    </script>\n",
              "  </div>\n",
              "\n",
              "    </div>\n",
              "  </div>\n"
            ],
            "application/vnd.google.colaboratory.intrinsic+json": {
              "type": "dataframe",
              "variable_name": "graph_list",
              "summary": "{\n  \"name\": \"graph_list\",\n  \"rows\": 6,\n  \"fields\": [\n    {\n      \"column\": \"degreeDistribution\",\n      \"properties\": {\n        \"dtype\": \"object\",\n        \"semantic_type\": \"\",\n        \"description\": \"\"\n      }\n    },\n    {\n      \"column\": \"graphName\",\n      \"properties\": {\n        \"dtype\": \"string\",\n        \"num_unique_values\": 6,\n        \"samples\": [\n          \"author_journal\",\n          \"article_person\",\n          \"citations\"\n        ],\n        \"semantic_type\": \"\",\n        \"description\": \"\"\n      }\n    },\n    {\n      \"column\": \"database\",\n      \"properties\": {\n        \"dtype\": \"category\",\n        \"num_unique_values\": 1,\n        \"samples\": [\n          \"neo4j\"\n        ],\n        \"semantic_type\": \"\",\n        \"description\": \"\"\n      }\n    },\n    {\n      \"column\": \"databaseLocation\",\n      \"properties\": {\n        \"dtype\": \"category\",\n        \"num_unique_values\": 1,\n        \"samples\": [\n          \"remote\"\n        ],\n        \"semantic_type\": \"\",\n        \"description\": \"\"\n      }\n    },\n    {\n      \"column\": \"memoryUsage\",\n      \"properties\": {\n        \"dtype\": \"string\",\n        \"num_unique_values\": 6,\n        \"samples\": [\n          \"63 MiB\"\n        ],\n        \"semantic_type\": \"\",\n        \"description\": \"\"\n      }\n    },\n    {\n      \"column\": \"sizeInBytes\",\n      \"properties\": {\n        \"dtype\": \"number\",\n        \"std\": 26307563,\n        \"min\": 4954120,\n        \"max\": 66692296,\n        \"num_unique_values\": 6,\n        \"samples\": [\n          66692296\n        ],\n        \"semantic_type\": \"\",\n        \"description\": \"\"\n      }\n    },\n    {\n      \"column\": \"nodeCount\",\n      \"properties\": {\n        \"dtype\": \"number\",\n        \"std\": 408837,\n        \"min\": 3287,\n        \"max\": 860743,\n        \"num_unique_values\": 5,\n        \"samples\": [\n          860743\n        ],\n        \"semantic_type\": \"\",\n        \"description\": \"\"\n      }\n    },\n    {\n      \"column\": \"relationshipCount\",\n      \"properties\": {\n        \"dtype\": \"number\",\n        \"std\": 873816,\n        \"min\": 11747,\n        \"max\": 2236602,\n        \"num_unique_values\": 6,\n        \"samples\": [\n          857934\n        ],\n        \"semantic_type\": \"\",\n        \"description\": \"\"\n      }\n    },\n    {\n      \"column\": \"configuration\",\n      \"properties\": {\n        \"dtype\": \"object\",\n        \"semantic_type\": \"\",\n        \"description\": \"\"\n      }\n    },\n    {\n      \"column\": \"density\",\n      \"properties\": {\n        \"dtype\": \"number\",\n        \"std\": 0.000574162059057416,\n        \"min\": 1.5094273636526731e-06,\n        \"max\": 0.0014285605830971378,\n        \"num_unique_values\": 6,\n        \"samples\": [\n          4.672389626821432e-06\n        ],\n        \"semantic_type\": \"\",\n        \"description\": \"\"\n      }\n    },\n    {\n      \"column\": \"creationTime\",\n      \"properties\": {\n        \"dtype\": \"string\",\n        \"num_unique_values\": 6,\n        \"samples\": [\n          \"2025-05-05T22:35:11.174827653+00:00\"\n        ],\n        \"semantic_type\": \"\",\n        \"description\": \"\"\n      }\n    },\n    {\n      \"column\": \"modificationTime\",\n      \"properties\": {\n        \"dtype\": \"string\",\n        \"num_unique_values\": 6,\n        \"samples\": [\n          \"2025-05-05T22:35:11.174827653+00:00\"\n        ],\n        \"semantic_type\": \"\",\n        \"description\": \"\"\n      }\n    },\n    {\n      \"column\": \"schema\",\n      \"properties\": {\n        \"dtype\": \"object\",\n        \"semantic_type\": \"\",\n        \"description\": \"\"\n      }\n    },\n    {\n      \"column\": \"schemaWithOrientation\",\n      \"properties\": {\n        \"dtype\": \"object\",\n        \"semantic_type\": \"\",\n        \"description\": \"\"\n      }\n    }\n  ]\n}"
            }
          },
          "metadata": {},
          "execution_count": 71
        }
      ],
      "source": [
        "#@title Solution:\n",
        "graph_list = gds.graph.list()\n",
        "graph_list"
      ]
    },
    {
      "cell_type": "markdown",
      "id": "de030614-a1d9-49ea-8090-9ef20404415d",
      "metadata": {
        "id": "de030614-a1d9-49ea-8090-9ef20404415d"
      },
      "source": [
        "## 5b Drop the *author_journal* graph from the catalog."
      ]
    },
    {
      "cell_type": "code",
      "source": [
        "#your code here"
      ],
      "metadata": {
        "id": "uUul9yvJCimt"
      },
      "id": "uUul9yvJCimt",
      "execution_count": null,
      "outputs": []
    },
    {
      "cell_type": "code",
      "execution_count": null,
      "id": "a7a3eaa1-270a-413e-9836-608815c9092c",
      "metadata": {
        "id": "a7a3eaa1-270a-413e-9836-608815c9092c",
        "outputId": "f3720191-21a5-4955-c860-1cc8e07640a5",
        "colab": {
          "base_uri": "https://localhost:8080/",
          "height": 492
        },
        "cellView": "form"
      },
      "outputs": [
        {
          "output_type": "execute_result",
          "data": {
            "text/plain": [
              "graphName                                                   author_journal\n",
              "database                                                             neo4j\n",
              "databaseLocation                                                    remote\n",
              "memoryUsage                                                               \n",
              "sizeInBytes                                                             -1\n",
              "nodeCount                                                           428507\n",
              "relationshipCount                                                   857934\n",
              "configuration            {'readConcurrency': 4, 'jobId': '1fc08d71-e338...\n",
              "density                                                           0.000005\n",
              "creationTime                           2025-05-05T22:35:11.174827653+00:00\n",
              "modificationTime                       2025-05-05T22:35:11.174827653+00:00\n",
              "schema                   {'graphProperties': {}, 'nodes': {'Author': {}...\n",
              "schemaWithOrientation    {'graphProperties': {}, 'nodes': {'Author': {}...\n",
              "Name: 0, dtype: object"
            ],
            "text/html": [
              "<div>\n",
              "<style scoped>\n",
              "    .dataframe tbody tr th:only-of-type {\n",
              "        vertical-align: middle;\n",
              "    }\n",
              "\n",
              "    .dataframe tbody tr th {\n",
              "        vertical-align: top;\n",
              "    }\n",
              "\n",
              "    .dataframe thead th {\n",
              "        text-align: right;\n",
              "    }\n",
              "</style>\n",
              "<table border=\"1\" class=\"dataframe\">\n",
              "  <thead>\n",
              "    <tr style=\"text-align: right;\">\n",
              "      <th></th>\n",
              "      <th>0</th>\n",
              "    </tr>\n",
              "  </thead>\n",
              "  <tbody>\n",
              "    <tr>\n",
              "      <th>graphName</th>\n",
              "      <td>author_journal</td>\n",
              "    </tr>\n",
              "    <tr>\n",
              "      <th>database</th>\n",
              "      <td>neo4j</td>\n",
              "    </tr>\n",
              "    <tr>\n",
              "      <th>databaseLocation</th>\n",
              "      <td>remote</td>\n",
              "    </tr>\n",
              "    <tr>\n",
              "      <th>memoryUsage</th>\n",
              "      <td></td>\n",
              "    </tr>\n",
              "    <tr>\n",
              "      <th>sizeInBytes</th>\n",
              "      <td>-1</td>\n",
              "    </tr>\n",
              "    <tr>\n",
              "      <th>nodeCount</th>\n",
              "      <td>428507</td>\n",
              "    </tr>\n",
              "    <tr>\n",
              "      <th>relationshipCount</th>\n",
              "      <td>857934</td>\n",
              "    </tr>\n",
              "    <tr>\n",
              "      <th>configuration</th>\n",
              "      <td>{'readConcurrency': 4, 'jobId': '1fc08d71-e338...</td>\n",
              "    </tr>\n",
              "    <tr>\n",
              "      <th>density</th>\n",
              "      <td>0.000005</td>\n",
              "    </tr>\n",
              "    <tr>\n",
              "      <th>creationTime</th>\n",
              "      <td>2025-05-05T22:35:11.174827653+00:00</td>\n",
              "    </tr>\n",
              "    <tr>\n",
              "      <th>modificationTime</th>\n",
              "      <td>2025-05-05T22:35:11.174827653+00:00</td>\n",
              "    </tr>\n",
              "    <tr>\n",
              "      <th>schema</th>\n",
              "      <td>{'graphProperties': {}, 'nodes': {'Author': {}...</td>\n",
              "    </tr>\n",
              "    <tr>\n",
              "      <th>schemaWithOrientation</th>\n",
              "      <td>{'graphProperties': {}, 'nodes': {'Author': {}...</td>\n",
              "    </tr>\n",
              "  </tbody>\n",
              "</table>\n",
              "</div><br><label><b>dtype:</b> object</label>"
            ]
          },
          "metadata": {},
          "execution_count": 72
        }
      ],
      "source": [
        "#@title Solution:\n",
        "gds.graph.drop(\"author_journal\")"
      ]
    },
    {
      "cell_type": "markdown",
      "source": [
        "## 5c Delete the session. When the session is destroyed, graphs still in the catalog will also be deleted.\n",
        "\n",
        "See the documentation for deleting a session. https://neo4j.com/docs/graph-data-science-client/current/gds-session/#_deleting_a_gds_session"
      ],
      "metadata": {
        "id": "-ImETM9lkRpG"
      },
      "id": "-ImETM9lkRpG"
    },
    {
      "cell_type": "code",
      "source": [
        "#your code here"
      ],
      "metadata": {
        "id": "M9CQab66CyUE"
      },
      "id": "M9CQab66CyUE",
      "execution_count": null,
      "outputs": []
    },
    {
      "cell_type": "code",
      "execution_count": null,
      "id": "f53b21ee-d523-43f8-a8e2-93f1a8a3ee07",
      "metadata": {
        "id": "f53b21ee-d523-43f8-a8e2-93f1a8a3ee07",
        "colab": {
          "base_uri": "https://localhost:8080/"
        },
        "outputId": "3ba91f60-b311-444d-c538-f47a540ffcdc"
      },
      "outputs": [
        {
          "output_type": "execute_result",
          "data": {
            "text/plain": [
              "True"
            ]
          },
          "metadata": {},
          "execution_count": 73
        }
      ],
      "source": [
        "#@title Solution:\n",
        "sessions.delete(session_name=\"graph_catalog_lab\")"
      ]
    },
    {
      "cell_type": "code",
      "source": [],
      "metadata": {
        "id": "SoXTymxplX4d"
      },
      "id": "SoXTymxplX4d",
      "execution_count": null,
      "outputs": []
    }
  ],
  "metadata": {
    "kernelspec": {
      "display_name": "Python 3 (ipykernel)",
      "language": "python",
      "name": "python3"
    },
    "language_info": {
      "codemirror_mode": {
        "name": "ipython",
        "version": 3
      },
      "file_extension": ".py",
      "mimetype": "text/x-python",
      "name": "python",
      "nbconvert_exporter": "python",
      "pygments_lexer": "ipython3",
      "version": "3.8.13"
    },
    "colab": {
      "provenance": []
    },
    "widgets": {
      "application/vnd.jupyter.widget-state+json": {
        "970df6c93c3f48f9b1185bb5ecc4f5b3": {
          "model_module": "@jupyter-widgets/controls",
          "model_name": "HBoxModel",
          "model_module_version": "1.5.0",
          "state": {
            "_dom_classes": [],
            "_model_module": "@jupyter-widgets/controls",
            "_model_module_version": "1.5.0",
            "_model_name": "HBoxModel",
            "_view_count": null,
            "_view_module": "@jupyter-widgets/controls",
            "_view_module_version": "1.5.0",
            "_view_name": "HBoxView",
            "box_style": "",
            "children": [
              "IPY_MODEL_899b003dbef14f06ac78c4b298987b33",
              "IPY_MODEL_527af7fba9c644dc9ac38d5c9945fc01",
              "IPY_MODEL_e446e21b4398461ca7e78c8f13688720"
            ],
            "layout": "IPY_MODEL_7e6340c4b25b4c2e877102f7da10c3e6"
          }
        },
        "899b003dbef14f06ac78c4b298987b33": {
          "model_module": "@jupyter-widgets/controls",
          "model_name": "HTMLModel",
          "model_module_version": "1.5.0",
          "state": {
            "_dom_classes": [],
            "_model_module": "@jupyter-widgets/controls",
            "_model_module_version": "1.5.0",
            "_model_name": "HTMLModel",
            "_view_count": null,
            "_view_module": "@jupyter-widgets/controls",
            "_view_module_version": "1.5.0",
            "_view_name": "HTMLView",
            "description": "",
            "description_tooltip": null,
            "layout": "IPY_MODEL_896719b1d587476d92f3bce2d39201bc",
            "placeholder": "​",
            "style": "IPY_MODEL_a408a42aee934eb5bb7a763afa4d378f",
            "value": " Graph creation from Triplets: 100%"
          }
        },
        "527af7fba9c644dc9ac38d5c9945fc01": {
          "model_module": "@jupyter-widgets/controls",
          "model_name": "FloatProgressModel",
          "model_module_version": "1.5.0",
          "state": {
            "_dom_classes": [],
            "_model_module": "@jupyter-widgets/controls",
            "_model_module_version": "1.5.0",
            "_model_name": "FloatProgressModel",
            "_view_count": null,
            "_view_module": "@jupyter-widgets/controls",
            "_view_module_version": "1.5.0",
            "_view_name": "ProgressView",
            "bar_style": "success",
            "description": "",
            "description_tooltip": null,
            "layout": "IPY_MODEL_56e8ea8039b84ae685a6cfb988ead9ad",
            "max": 100,
            "min": 0,
            "orientation": "horizontal",
            "style": "IPY_MODEL_6fc7cc59ff7f4ca29a2dd6d15dc27007",
            "value": 100
          }
        },
        "e446e21b4398461ca7e78c8f13688720": {
          "model_module": "@jupyter-widgets/controls",
          "model_name": "HTMLModel",
          "model_module_version": "1.5.0",
          "state": {
            "_dom_classes": [],
            "_model_module": "@jupyter-widgets/controls",
            "_model_module_version": "1.5.0",
            "_model_name": "HTMLModel",
            "_view_count": null,
            "_view_module": "@jupyter-widgets/controls",
            "_view_module_version": "1.5.0",
            "_view_name": "HTMLView",
            "description": "",
            "description_tooltip": null,
            "layout": "IPY_MODEL_7fa52e0a3c1941a68fb8ca7fe0e5a912",
            "placeholder": "​",
            "style": "IPY_MODEL_c73761b4b1ec42a5b0e39a5fa174d4d2",
            "value": " 100.0/100 [00:51&lt;00:00, 121.35%/s, status: FINISHED]"
          }
        },
        "7e6340c4b25b4c2e877102f7da10c3e6": {
          "model_module": "@jupyter-widgets/base",
          "model_name": "LayoutModel",
          "model_module_version": "1.2.0",
          "state": {
            "_model_module": "@jupyter-widgets/base",
            "_model_module_version": "1.2.0",
            "_model_name": "LayoutModel",
            "_view_count": null,
            "_view_module": "@jupyter-widgets/base",
            "_view_module_version": "1.2.0",
            "_view_name": "LayoutView",
            "align_content": null,
            "align_items": null,
            "align_self": null,
            "border": null,
            "bottom": null,
            "display": null,
            "flex": null,
            "flex_flow": null,
            "grid_area": null,
            "grid_auto_columns": null,
            "grid_auto_flow": null,
            "grid_auto_rows": null,
            "grid_column": null,
            "grid_gap": null,
            "grid_row": null,
            "grid_template_areas": null,
            "grid_template_columns": null,
            "grid_template_rows": null,
            "height": null,
            "justify_content": null,
            "justify_items": null,
            "left": null,
            "margin": null,
            "max_height": null,
            "max_width": null,
            "min_height": null,
            "min_width": null,
            "object_fit": null,
            "object_position": null,
            "order": null,
            "overflow": null,
            "overflow_x": null,
            "overflow_y": null,
            "padding": null,
            "right": null,
            "top": null,
            "visibility": null,
            "width": null
          }
        },
        "896719b1d587476d92f3bce2d39201bc": {
          "model_module": "@jupyter-widgets/base",
          "model_name": "LayoutModel",
          "model_module_version": "1.2.0",
          "state": {
            "_model_module": "@jupyter-widgets/base",
            "_model_module_version": "1.2.0",
            "_model_name": "LayoutModel",
            "_view_count": null,
            "_view_module": "@jupyter-widgets/base",
            "_view_module_version": "1.2.0",
            "_view_name": "LayoutView",
            "align_content": null,
            "align_items": null,
            "align_self": null,
            "border": null,
            "bottom": null,
            "display": null,
            "flex": null,
            "flex_flow": null,
            "grid_area": null,
            "grid_auto_columns": null,
            "grid_auto_flow": null,
            "grid_auto_rows": null,
            "grid_column": null,
            "grid_gap": null,
            "grid_row": null,
            "grid_template_areas": null,
            "grid_template_columns": null,
            "grid_template_rows": null,
            "height": null,
            "justify_content": null,
            "justify_items": null,
            "left": null,
            "margin": null,
            "max_height": null,
            "max_width": null,
            "min_height": null,
            "min_width": null,
            "object_fit": null,
            "object_position": null,
            "order": null,
            "overflow": null,
            "overflow_x": null,
            "overflow_y": null,
            "padding": null,
            "right": null,
            "top": null,
            "visibility": null,
            "width": null
          }
        },
        "a408a42aee934eb5bb7a763afa4d378f": {
          "model_module": "@jupyter-widgets/controls",
          "model_name": "DescriptionStyleModel",
          "model_module_version": "1.5.0",
          "state": {
            "_model_module": "@jupyter-widgets/controls",
            "_model_module_version": "1.5.0",
            "_model_name": "DescriptionStyleModel",
            "_view_count": null,
            "_view_module": "@jupyter-widgets/base",
            "_view_module_version": "1.2.0",
            "_view_name": "StyleView",
            "description_width": ""
          }
        },
        "56e8ea8039b84ae685a6cfb988ead9ad": {
          "model_module": "@jupyter-widgets/base",
          "model_name": "LayoutModel",
          "model_module_version": "1.2.0",
          "state": {
            "_model_module": "@jupyter-widgets/base",
            "_model_module_version": "1.2.0",
            "_model_name": "LayoutModel",
            "_view_count": null,
            "_view_module": "@jupyter-widgets/base",
            "_view_module_version": "1.2.0",
            "_view_name": "LayoutView",
            "align_content": null,
            "align_items": null,
            "align_self": null,
            "border": null,
            "bottom": null,
            "display": null,
            "flex": null,
            "flex_flow": null,
            "grid_area": null,
            "grid_auto_columns": null,
            "grid_auto_flow": null,
            "grid_auto_rows": null,
            "grid_column": null,
            "grid_gap": null,
            "grid_row": null,
            "grid_template_areas": null,
            "grid_template_columns": null,
            "grid_template_rows": null,
            "height": null,
            "justify_content": null,
            "justify_items": null,
            "left": null,
            "margin": null,
            "max_height": null,
            "max_width": null,
            "min_height": null,
            "min_width": null,
            "object_fit": null,
            "object_position": null,
            "order": null,
            "overflow": null,
            "overflow_x": null,
            "overflow_y": null,
            "padding": null,
            "right": null,
            "top": null,
            "visibility": null,
            "width": null
          }
        },
        "6fc7cc59ff7f4ca29a2dd6d15dc27007": {
          "model_module": "@jupyter-widgets/controls",
          "model_name": "ProgressStyleModel",
          "model_module_version": "1.5.0",
          "state": {
            "_model_module": "@jupyter-widgets/controls",
            "_model_module_version": "1.5.0",
            "_model_name": "ProgressStyleModel",
            "_view_count": null,
            "_view_module": "@jupyter-widgets/base",
            "_view_module_version": "1.2.0",
            "_view_name": "StyleView",
            "bar_color": null,
            "description_width": ""
          }
        },
        "7fa52e0a3c1941a68fb8ca7fe0e5a912": {
          "model_module": "@jupyter-widgets/base",
          "model_name": "LayoutModel",
          "model_module_version": "1.2.0",
          "state": {
            "_model_module": "@jupyter-widgets/base",
            "_model_module_version": "1.2.0",
            "_model_name": "LayoutModel",
            "_view_count": null,
            "_view_module": "@jupyter-widgets/base",
            "_view_module_version": "1.2.0",
            "_view_name": "LayoutView",
            "align_content": null,
            "align_items": null,
            "align_self": null,
            "border": null,
            "bottom": null,
            "display": null,
            "flex": null,
            "flex_flow": null,
            "grid_area": null,
            "grid_auto_columns": null,
            "grid_auto_flow": null,
            "grid_auto_rows": null,
            "grid_column": null,
            "grid_gap": null,
            "grid_row": null,
            "grid_template_areas": null,
            "grid_template_columns": null,
            "grid_template_rows": null,
            "height": null,
            "justify_content": null,
            "justify_items": null,
            "left": null,
            "margin": null,
            "max_height": null,
            "max_width": null,
            "min_height": null,
            "min_width": null,
            "object_fit": null,
            "object_position": null,
            "order": null,
            "overflow": null,
            "overflow_x": null,
            "overflow_y": null,
            "padding": null,
            "right": null,
            "top": null,
            "visibility": null,
            "width": null
          }
        },
        "c73761b4b1ec42a5b0e39a5fa174d4d2": {
          "model_module": "@jupyter-widgets/controls",
          "model_name": "DescriptionStyleModel",
          "model_module_version": "1.5.0",
          "state": {
            "_model_module": "@jupyter-widgets/controls",
            "_model_module_version": "1.5.0",
            "_model_name": "DescriptionStyleModel",
            "_view_count": null,
            "_view_module": "@jupyter-widgets/base",
            "_view_module_version": "1.2.0",
            "_view_name": "StyleView",
            "description_width": ""
          }
        },
        "0c7637f60e0347bdb07341f339939aa7": {
          "model_module": "@jupyter-widgets/controls",
          "model_name": "HBoxModel",
          "model_module_version": "1.5.0",
          "state": {
            "_dom_classes": [],
            "_model_module": "@jupyter-widgets/controls",
            "_model_module_version": "1.5.0",
            "_model_name": "HBoxModel",
            "_view_count": null,
            "_view_module": "@jupyter-widgets/controls",
            "_view_module_version": "1.5.0",
            "_view_name": "HBoxView",
            "box_style": "",
            "children": [
              "IPY_MODEL_ebd3abf1137d438dac43b01c5389fd90",
              "IPY_MODEL_23a12e59269d460a8682fb1520314d14",
              "IPY_MODEL_58d251408bc0491980804b0cdd68c5c6"
            ],
            "layout": "IPY_MODEL_23ce99c3074a49e1b3ecb39dd475b83e"
          }
        },
        "ebd3abf1137d438dac43b01c5389fd90": {
          "model_module": "@jupyter-widgets/controls",
          "model_name": "HTMLModel",
          "model_module_version": "1.5.0",
          "state": {
            "_dom_classes": [],
            "_model_module": "@jupyter-widgets/controls",
            "_model_module_version": "1.5.0",
            "_model_name": "HTMLModel",
            "_view_count": null,
            "_view_module": "@jupyter-widgets/controls",
            "_view_module_version": "1.5.0",
            "_view_name": "HTMLView",
            "description": "",
            "description_tooltip": null,
            "layout": "IPY_MODEL_7114716bb4784a71947cec10953d0074",
            "placeholder": "​",
            "style": "IPY_MODEL_a4a9b663ad8a42de80b6c646623942fd",
            "value": " Graph creation from Triplets: 100%"
          }
        },
        "23a12e59269d460a8682fb1520314d14": {
          "model_module": "@jupyter-widgets/controls",
          "model_name": "FloatProgressModel",
          "model_module_version": "1.5.0",
          "state": {
            "_dom_classes": [],
            "_model_module": "@jupyter-widgets/controls",
            "_model_module_version": "1.5.0",
            "_model_name": "FloatProgressModel",
            "_view_count": null,
            "_view_module": "@jupyter-widgets/controls",
            "_view_module_version": "1.5.0",
            "_view_name": "ProgressView",
            "bar_style": "success",
            "description": "",
            "description_tooltip": null,
            "layout": "IPY_MODEL_0bfe018e0d274e5cad1583107b1b60f5",
            "max": 100,
            "min": 0,
            "orientation": "horizontal",
            "style": "IPY_MODEL_6959cb4ee1224a3bab8105fb2ad57237",
            "value": 100
          }
        },
        "58d251408bc0491980804b0cdd68c5c6": {
          "model_module": "@jupyter-widgets/controls",
          "model_name": "HTMLModel",
          "model_module_version": "1.5.0",
          "state": {
            "_dom_classes": [],
            "_model_module": "@jupyter-widgets/controls",
            "_model_module_version": "1.5.0",
            "_model_name": "HTMLModel",
            "_view_count": null,
            "_view_module": "@jupyter-widgets/controls",
            "_view_module_version": "1.5.0",
            "_view_name": "HTMLView",
            "description": "",
            "description_tooltip": null,
            "layout": "IPY_MODEL_ce237060b5fd485eb20a5eb27c6232f2",
            "placeholder": "​",
            "style": "IPY_MODEL_ac0c21a79004458b8868aae0f61f01a0",
            "value": " 100.0/100 [00:40&lt;00:00, 37.07%/s, status: FINISHED]"
          }
        },
        "23ce99c3074a49e1b3ecb39dd475b83e": {
          "model_module": "@jupyter-widgets/base",
          "model_name": "LayoutModel",
          "model_module_version": "1.2.0",
          "state": {
            "_model_module": "@jupyter-widgets/base",
            "_model_module_version": "1.2.0",
            "_model_name": "LayoutModel",
            "_view_count": null,
            "_view_module": "@jupyter-widgets/base",
            "_view_module_version": "1.2.0",
            "_view_name": "LayoutView",
            "align_content": null,
            "align_items": null,
            "align_self": null,
            "border": null,
            "bottom": null,
            "display": null,
            "flex": null,
            "flex_flow": null,
            "grid_area": null,
            "grid_auto_columns": null,
            "grid_auto_flow": null,
            "grid_auto_rows": null,
            "grid_column": null,
            "grid_gap": null,
            "grid_row": null,
            "grid_template_areas": null,
            "grid_template_columns": null,
            "grid_template_rows": null,
            "height": null,
            "justify_content": null,
            "justify_items": null,
            "left": null,
            "margin": null,
            "max_height": null,
            "max_width": null,
            "min_height": null,
            "min_width": null,
            "object_fit": null,
            "object_position": null,
            "order": null,
            "overflow": null,
            "overflow_x": null,
            "overflow_y": null,
            "padding": null,
            "right": null,
            "top": null,
            "visibility": null,
            "width": null
          }
        },
        "7114716bb4784a71947cec10953d0074": {
          "model_module": "@jupyter-widgets/base",
          "model_name": "LayoutModel",
          "model_module_version": "1.2.0",
          "state": {
            "_model_module": "@jupyter-widgets/base",
            "_model_module_version": "1.2.0",
            "_model_name": "LayoutModel",
            "_view_count": null,
            "_view_module": "@jupyter-widgets/base",
            "_view_module_version": "1.2.0",
            "_view_name": "LayoutView",
            "align_content": null,
            "align_items": null,
            "align_self": null,
            "border": null,
            "bottom": null,
            "display": null,
            "flex": null,
            "flex_flow": null,
            "grid_area": null,
            "grid_auto_columns": null,
            "grid_auto_flow": null,
            "grid_auto_rows": null,
            "grid_column": null,
            "grid_gap": null,
            "grid_row": null,
            "grid_template_areas": null,
            "grid_template_columns": null,
            "grid_template_rows": null,
            "height": null,
            "justify_content": null,
            "justify_items": null,
            "left": null,
            "margin": null,
            "max_height": null,
            "max_width": null,
            "min_height": null,
            "min_width": null,
            "object_fit": null,
            "object_position": null,
            "order": null,
            "overflow": null,
            "overflow_x": null,
            "overflow_y": null,
            "padding": null,
            "right": null,
            "top": null,
            "visibility": null,
            "width": null
          }
        },
        "a4a9b663ad8a42de80b6c646623942fd": {
          "model_module": "@jupyter-widgets/controls",
          "model_name": "DescriptionStyleModel",
          "model_module_version": "1.5.0",
          "state": {
            "_model_module": "@jupyter-widgets/controls",
            "_model_module_version": "1.5.0",
            "_model_name": "DescriptionStyleModel",
            "_view_count": null,
            "_view_module": "@jupyter-widgets/base",
            "_view_module_version": "1.2.0",
            "_view_name": "StyleView",
            "description_width": ""
          }
        },
        "0bfe018e0d274e5cad1583107b1b60f5": {
          "model_module": "@jupyter-widgets/base",
          "model_name": "LayoutModel",
          "model_module_version": "1.2.0",
          "state": {
            "_model_module": "@jupyter-widgets/base",
            "_model_module_version": "1.2.0",
            "_model_name": "LayoutModel",
            "_view_count": null,
            "_view_module": "@jupyter-widgets/base",
            "_view_module_version": "1.2.0",
            "_view_name": "LayoutView",
            "align_content": null,
            "align_items": null,
            "align_self": null,
            "border": null,
            "bottom": null,
            "display": null,
            "flex": null,
            "flex_flow": null,
            "grid_area": null,
            "grid_auto_columns": null,
            "grid_auto_flow": null,
            "grid_auto_rows": null,
            "grid_column": null,
            "grid_gap": null,
            "grid_row": null,
            "grid_template_areas": null,
            "grid_template_columns": null,
            "grid_template_rows": null,
            "height": null,
            "justify_content": null,
            "justify_items": null,
            "left": null,
            "margin": null,
            "max_height": null,
            "max_width": null,
            "min_height": null,
            "min_width": null,
            "object_fit": null,
            "object_position": null,
            "order": null,
            "overflow": null,
            "overflow_x": null,
            "overflow_y": null,
            "padding": null,
            "right": null,
            "top": null,
            "visibility": null,
            "width": null
          }
        },
        "6959cb4ee1224a3bab8105fb2ad57237": {
          "model_module": "@jupyter-widgets/controls",
          "model_name": "ProgressStyleModel",
          "model_module_version": "1.5.0",
          "state": {
            "_model_module": "@jupyter-widgets/controls",
            "_model_module_version": "1.5.0",
            "_model_name": "ProgressStyleModel",
            "_view_count": null,
            "_view_module": "@jupyter-widgets/base",
            "_view_module_version": "1.2.0",
            "_view_name": "StyleView",
            "bar_color": null,
            "description_width": ""
          }
        },
        "ce237060b5fd485eb20a5eb27c6232f2": {
          "model_module": "@jupyter-widgets/base",
          "model_name": "LayoutModel",
          "model_module_version": "1.2.0",
          "state": {
            "_model_module": "@jupyter-widgets/base",
            "_model_module_version": "1.2.0",
            "_model_name": "LayoutModel",
            "_view_count": null,
            "_view_module": "@jupyter-widgets/base",
            "_view_module_version": "1.2.0",
            "_view_name": "LayoutView",
            "align_content": null,
            "align_items": null,
            "align_self": null,
            "border": null,
            "bottom": null,
            "display": null,
            "flex": null,
            "flex_flow": null,
            "grid_area": null,
            "grid_auto_columns": null,
            "grid_auto_flow": null,
            "grid_auto_rows": null,
            "grid_column": null,
            "grid_gap": null,
            "grid_row": null,
            "grid_template_areas": null,
            "grid_template_columns": null,
            "grid_template_rows": null,
            "height": null,
            "justify_content": null,
            "justify_items": null,
            "left": null,
            "margin": null,
            "max_height": null,
            "max_width": null,
            "min_height": null,
            "min_width": null,
            "object_fit": null,
            "object_position": null,
            "order": null,
            "overflow": null,
            "overflow_x": null,
            "overflow_y": null,
            "padding": null,
            "right": null,
            "top": null,
            "visibility": null,
            "width": null
          }
        },
        "ac0c21a79004458b8868aae0f61f01a0": {
          "model_module": "@jupyter-widgets/controls",
          "model_name": "DescriptionStyleModel",
          "model_module_version": "1.5.0",
          "state": {
            "_model_module": "@jupyter-widgets/controls",
            "_model_module_version": "1.5.0",
            "_model_name": "DescriptionStyleModel",
            "_view_count": null,
            "_view_module": "@jupyter-widgets/base",
            "_view_module_version": "1.2.0",
            "_view_name": "StyleView",
            "description_width": ""
          }
        },
        "17400492d1794f1a93fb243f08c01af9": {
          "model_module": "@jupyter-widgets/controls",
          "model_name": "HBoxModel",
          "model_module_version": "1.5.0",
          "state": {
            "_dom_classes": [],
            "_model_module": "@jupyter-widgets/controls",
            "_model_module_version": "1.5.0",
            "_model_name": "HBoxModel",
            "_view_count": null,
            "_view_module": "@jupyter-widgets/controls",
            "_view_module_version": "1.5.0",
            "_view_name": "HBoxView",
            "box_style": "",
            "children": [
              "IPY_MODEL_9e5e6188987f4d1cb55a33fbcfe485f1",
              "IPY_MODEL_f7587ca464b14e66abb665d777ff9fce",
              "IPY_MODEL_69a6ae828b8b46c2a3acae4bc468b441"
            ],
            "layout": "IPY_MODEL_e548daa318f94e7bbd982a64aae2a49c"
          }
        },
        "9e5e6188987f4d1cb55a33fbcfe485f1": {
          "model_module": "@jupyter-widgets/controls",
          "model_name": "HTMLModel",
          "model_module_version": "1.5.0",
          "state": {
            "_dom_classes": [],
            "_model_module": "@jupyter-widgets/controls",
            "_model_module_version": "1.5.0",
            "_model_name": "HTMLModel",
            "_view_count": null,
            "_view_module": "@jupyter-widgets/controls",
            "_view_module_version": "1.5.0",
            "_view_name": "HTMLView",
            "description": "",
            "description_tooltip": null,
            "layout": "IPY_MODEL_97ea1791b5d54fb3a1c9a6a2efa76990",
            "placeholder": "​",
            "style": "IPY_MODEL_9cb0e6bbf0764b339e10f0ba213b7260",
            "value": " Graph creation from Triplets: 100%"
          }
        },
        "f7587ca464b14e66abb665d777ff9fce": {
          "model_module": "@jupyter-widgets/controls",
          "model_name": "FloatProgressModel",
          "model_module_version": "1.5.0",
          "state": {
            "_dom_classes": [],
            "_model_module": "@jupyter-widgets/controls",
            "_model_module_version": "1.5.0",
            "_model_name": "FloatProgressModel",
            "_view_count": null,
            "_view_module": "@jupyter-widgets/controls",
            "_view_module_version": "1.5.0",
            "_view_name": "ProgressView",
            "bar_style": "",
            "description": "",
            "description_tooltip": null,
            "layout": "IPY_MODEL_9dc06aadc34540dfb560a7f2e359ac14",
            "max": 100,
            "min": 0,
            "orientation": "horizontal",
            "style": "IPY_MODEL_a0e98f7c1133464ca478606523f40178",
            "value": 100
          }
        },
        "69a6ae828b8b46c2a3acae4bc468b441": {
          "model_module": "@jupyter-widgets/controls",
          "model_name": "HTMLModel",
          "model_module_version": "1.5.0",
          "state": {
            "_dom_classes": [],
            "_model_module": "@jupyter-widgets/controls",
            "_model_module_version": "1.5.0",
            "_model_name": "HTMLModel",
            "_view_count": null,
            "_view_module": "@jupyter-widgets/controls",
            "_view_module_version": "1.5.0",
            "_view_name": "HTMLView",
            "description": "",
            "description_tooltip": null,
            "layout": "IPY_MODEL_63833e8c5f2644158f1d66617dd92d19",
            "placeholder": "​",
            "style": "IPY_MODEL_2c54649016e646ab983193fec7dc91a0",
            "value": " 100.0/100 [00:05&lt;00:00, 167.67%/s, status: FINISHED]"
          }
        },
        "e548daa318f94e7bbd982a64aae2a49c": {
          "model_module": "@jupyter-widgets/base",
          "model_name": "LayoutModel",
          "model_module_version": "1.2.0",
          "state": {
            "_model_module": "@jupyter-widgets/base",
            "_model_module_version": "1.2.0",
            "_model_name": "LayoutModel",
            "_view_count": null,
            "_view_module": "@jupyter-widgets/base",
            "_view_module_version": "1.2.0",
            "_view_name": "LayoutView",
            "align_content": null,
            "align_items": null,
            "align_self": null,
            "border": null,
            "bottom": null,
            "display": null,
            "flex": null,
            "flex_flow": null,
            "grid_area": null,
            "grid_auto_columns": null,
            "grid_auto_flow": null,
            "grid_auto_rows": null,
            "grid_column": null,
            "grid_gap": null,
            "grid_row": null,
            "grid_template_areas": null,
            "grid_template_columns": null,
            "grid_template_rows": null,
            "height": null,
            "justify_content": null,
            "justify_items": null,
            "left": null,
            "margin": null,
            "max_height": null,
            "max_width": null,
            "min_height": null,
            "min_width": null,
            "object_fit": null,
            "object_position": null,
            "order": null,
            "overflow": null,
            "overflow_x": null,
            "overflow_y": null,
            "padding": null,
            "right": null,
            "top": null,
            "visibility": null,
            "width": null
          }
        },
        "97ea1791b5d54fb3a1c9a6a2efa76990": {
          "model_module": "@jupyter-widgets/base",
          "model_name": "LayoutModel",
          "model_module_version": "1.2.0",
          "state": {
            "_model_module": "@jupyter-widgets/base",
            "_model_module_version": "1.2.0",
            "_model_name": "LayoutModel",
            "_view_count": null,
            "_view_module": "@jupyter-widgets/base",
            "_view_module_version": "1.2.0",
            "_view_name": "LayoutView",
            "align_content": null,
            "align_items": null,
            "align_self": null,
            "border": null,
            "bottom": null,
            "display": null,
            "flex": null,
            "flex_flow": null,
            "grid_area": null,
            "grid_auto_columns": null,
            "grid_auto_flow": null,
            "grid_auto_rows": null,
            "grid_column": null,
            "grid_gap": null,
            "grid_row": null,
            "grid_template_areas": null,
            "grid_template_columns": null,
            "grid_template_rows": null,
            "height": null,
            "justify_content": null,
            "justify_items": null,
            "left": null,
            "margin": null,
            "max_height": null,
            "max_width": null,
            "min_height": null,
            "min_width": null,
            "object_fit": null,
            "object_position": null,
            "order": null,
            "overflow": null,
            "overflow_x": null,
            "overflow_y": null,
            "padding": null,
            "right": null,
            "top": null,
            "visibility": null,
            "width": null
          }
        },
        "9cb0e6bbf0764b339e10f0ba213b7260": {
          "model_module": "@jupyter-widgets/controls",
          "model_name": "DescriptionStyleModel",
          "model_module_version": "1.5.0",
          "state": {
            "_model_module": "@jupyter-widgets/controls",
            "_model_module_version": "1.5.0",
            "_model_name": "DescriptionStyleModel",
            "_view_count": null,
            "_view_module": "@jupyter-widgets/base",
            "_view_module_version": "1.2.0",
            "_view_name": "StyleView",
            "description_width": ""
          }
        },
        "9dc06aadc34540dfb560a7f2e359ac14": {
          "model_module": "@jupyter-widgets/base",
          "model_name": "LayoutModel",
          "model_module_version": "1.2.0",
          "state": {
            "_model_module": "@jupyter-widgets/base",
            "_model_module_version": "1.2.0",
            "_model_name": "LayoutModel",
            "_view_count": null,
            "_view_module": "@jupyter-widgets/base",
            "_view_module_version": "1.2.0",
            "_view_name": "LayoutView",
            "align_content": null,
            "align_items": null,
            "align_self": null,
            "border": null,
            "bottom": null,
            "display": null,
            "flex": null,
            "flex_flow": null,
            "grid_area": null,
            "grid_auto_columns": null,
            "grid_auto_flow": null,
            "grid_auto_rows": null,
            "grid_column": null,
            "grid_gap": null,
            "grid_row": null,
            "grid_template_areas": null,
            "grid_template_columns": null,
            "grid_template_rows": null,
            "height": null,
            "justify_content": null,
            "justify_items": null,
            "left": null,
            "margin": null,
            "max_height": null,
            "max_width": null,
            "min_height": null,
            "min_width": null,
            "object_fit": null,
            "object_position": null,
            "order": null,
            "overflow": null,
            "overflow_x": null,
            "overflow_y": null,
            "padding": null,
            "right": null,
            "top": null,
            "visibility": null,
            "width": null
          }
        },
        "a0e98f7c1133464ca478606523f40178": {
          "model_module": "@jupyter-widgets/controls",
          "model_name": "ProgressStyleModel",
          "model_module_version": "1.5.0",
          "state": {
            "_model_module": "@jupyter-widgets/controls",
            "_model_module_version": "1.5.0",
            "_model_name": "ProgressStyleModel",
            "_view_count": null,
            "_view_module": "@jupyter-widgets/base",
            "_view_module_version": "1.2.0",
            "_view_name": "StyleView",
            "bar_color": null,
            "description_width": ""
          }
        },
        "63833e8c5f2644158f1d66617dd92d19": {
          "model_module": "@jupyter-widgets/base",
          "model_name": "LayoutModel",
          "model_module_version": "1.2.0",
          "state": {
            "_model_module": "@jupyter-widgets/base",
            "_model_module_version": "1.2.0",
            "_model_name": "LayoutModel",
            "_view_count": null,
            "_view_module": "@jupyter-widgets/base",
            "_view_module_version": "1.2.0",
            "_view_name": "LayoutView",
            "align_content": null,
            "align_items": null,
            "align_self": null,
            "border": null,
            "bottom": null,
            "display": null,
            "flex": null,
            "flex_flow": null,
            "grid_area": null,
            "grid_auto_columns": null,
            "grid_auto_flow": null,
            "grid_auto_rows": null,
            "grid_column": null,
            "grid_gap": null,
            "grid_row": null,
            "grid_template_areas": null,
            "grid_template_columns": null,
            "grid_template_rows": null,
            "height": null,
            "justify_content": null,
            "justify_items": null,
            "left": null,
            "margin": null,
            "max_height": null,
            "max_width": null,
            "min_height": null,
            "min_width": null,
            "object_fit": null,
            "object_position": null,
            "order": null,
            "overflow": null,
            "overflow_x": null,
            "overflow_y": null,
            "padding": null,
            "right": null,
            "top": null,
            "visibility": null,
            "width": null
          }
        },
        "2c54649016e646ab983193fec7dc91a0": {
          "model_module": "@jupyter-widgets/controls",
          "model_name": "DescriptionStyleModel",
          "model_module_version": "1.5.0",
          "state": {
            "_model_module": "@jupyter-widgets/controls",
            "_model_module_version": "1.5.0",
            "_model_name": "DescriptionStyleModel",
            "_view_count": null,
            "_view_module": "@jupyter-widgets/base",
            "_view_module_version": "1.2.0",
            "_view_name": "StyleView",
            "description_width": ""
          }
        },
        "efd7b636f7364bdb8408e91224f76c58": {
          "model_module": "@jupyter-widgets/controls",
          "model_name": "HBoxModel",
          "model_module_version": "1.5.0",
          "state": {
            "_dom_classes": [],
            "_model_module": "@jupyter-widgets/controls",
            "_model_module_version": "1.5.0",
            "_model_name": "HBoxModel",
            "_view_count": null,
            "_view_module": "@jupyter-widgets/controls",
            "_view_module_version": "1.5.0",
            "_view_name": "HBoxView",
            "box_style": "",
            "children": [
              "IPY_MODEL_0c338c2a48844cfb8efe55ab3030db17",
              "IPY_MODEL_4e2171824b9c40cc8d9c91af38649081",
              "IPY_MODEL_34a4bc11449741cba90ad7e3dbd2d1f0"
            ],
            "layout": "IPY_MODEL_c1af78a8d506456293efb0c309b1ce37"
          }
        },
        "0c338c2a48844cfb8efe55ab3030db17": {
          "model_module": "@jupyter-widgets/controls",
          "model_name": "HTMLModel",
          "model_module_version": "1.5.0",
          "state": {
            "_dom_classes": [],
            "_model_module": "@jupyter-widgets/controls",
            "_model_module_version": "1.5.0",
            "_model_name": "HTMLModel",
            "_view_count": null,
            "_view_module": "@jupyter-widgets/controls",
            "_view_module_version": "1.5.0",
            "_view_name": "HTMLView",
            "description": "",
            "description_tooltip": null,
            "layout": "IPY_MODEL_e3397eb3ad8145db93f08aa48c7e11f7",
            "placeholder": "​",
            "style": "IPY_MODEL_d731e59937e14967aac161ef3e3c0ca9",
            "value": " Graph creation from Triplets: 100%"
          }
        },
        "4e2171824b9c40cc8d9c91af38649081": {
          "model_module": "@jupyter-widgets/controls",
          "model_name": "FloatProgressModel",
          "model_module_version": "1.5.0",
          "state": {
            "_dom_classes": [],
            "_model_module": "@jupyter-widgets/controls",
            "_model_module_version": "1.5.0",
            "_model_name": "FloatProgressModel",
            "_view_count": null,
            "_view_module": "@jupyter-widgets/controls",
            "_view_module_version": "1.5.0",
            "_view_name": "ProgressView",
            "bar_style": "success",
            "description": "",
            "description_tooltip": null,
            "layout": "IPY_MODEL_a5a3a301c5894ff99307d245c207dc5d",
            "max": 100,
            "min": 0,
            "orientation": "horizontal",
            "style": "IPY_MODEL_82991275ae9d4ec68c6266999f03ae27",
            "value": 100
          }
        },
        "34a4bc11449741cba90ad7e3dbd2d1f0": {
          "model_module": "@jupyter-widgets/controls",
          "model_name": "HTMLModel",
          "model_module_version": "1.5.0",
          "state": {
            "_dom_classes": [],
            "_model_module": "@jupyter-widgets/controls",
            "_model_module_version": "1.5.0",
            "_model_name": "HTMLModel",
            "_view_count": null,
            "_view_module": "@jupyter-widgets/controls",
            "_view_module_version": "1.5.0",
            "_view_name": "HTMLView",
            "description": "",
            "description_tooltip": null,
            "layout": "IPY_MODEL_2b6abaa7daaf4061a781dcb0b09f9d54",
            "placeholder": "​",
            "style": "IPY_MODEL_4472c902aae34926a4afa91a76ad2e8c",
            "value": " 100.0/100 [00:09&lt;00:00, 37.97%/s, status: FINISHED]"
          }
        },
        "c1af78a8d506456293efb0c309b1ce37": {
          "model_module": "@jupyter-widgets/base",
          "model_name": "LayoutModel",
          "model_module_version": "1.2.0",
          "state": {
            "_model_module": "@jupyter-widgets/base",
            "_model_module_version": "1.2.0",
            "_model_name": "LayoutModel",
            "_view_count": null,
            "_view_module": "@jupyter-widgets/base",
            "_view_module_version": "1.2.0",
            "_view_name": "LayoutView",
            "align_content": null,
            "align_items": null,
            "align_self": null,
            "border": null,
            "bottom": null,
            "display": null,
            "flex": null,
            "flex_flow": null,
            "grid_area": null,
            "grid_auto_columns": null,
            "grid_auto_flow": null,
            "grid_auto_rows": null,
            "grid_column": null,
            "grid_gap": null,
            "grid_row": null,
            "grid_template_areas": null,
            "grid_template_columns": null,
            "grid_template_rows": null,
            "height": null,
            "justify_content": null,
            "justify_items": null,
            "left": null,
            "margin": null,
            "max_height": null,
            "max_width": null,
            "min_height": null,
            "min_width": null,
            "object_fit": null,
            "object_position": null,
            "order": null,
            "overflow": null,
            "overflow_x": null,
            "overflow_y": null,
            "padding": null,
            "right": null,
            "top": null,
            "visibility": null,
            "width": null
          }
        },
        "e3397eb3ad8145db93f08aa48c7e11f7": {
          "model_module": "@jupyter-widgets/base",
          "model_name": "LayoutModel",
          "model_module_version": "1.2.0",
          "state": {
            "_model_module": "@jupyter-widgets/base",
            "_model_module_version": "1.2.0",
            "_model_name": "LayoutModel",
            "_view_count": null,
            "_view_module": "@jupyter-widgets/base",
            "_view_module_version": "1.2.0",
            "_view_name": "LayoutView",
            "align_content": null,
            "align_items": null,
            "align_self": null,
            "border": null,
            "bottom": null,
            "display": null,
            "flex": null,
            "flex_flow": null,
            "grid_area": null,
            "grid_auto_columns": null,
            "grid_auto_flow": null,
            "grid_auto_rows": null,
            "grid_column": null,
            "grid_gap": null,
            "grid_row": null,
            "grid_template_areas": null,
            "grid_template_columns": null,
            "grid_template_rows": null,
            "height": null,
            "justify_content": null,
            "justify_items": null,
            "left": null,
            "margin": null,
            "max_height": null,
            "max_width": null,
            "min_height": null,
            "min_width": null,
            "object_fit": null,
            "object_position": null,
            "order": null,
            "overflow": null,
            "overflow_x": null,
            "overflow_y": null,
            "padding": null,
            "right": null,
            "top": null,
            "visibility": null,
            "width": null
          }
        },
        "d731e59937e14967aac161ef3e3c0ca9": {
          "model_module": "@jupyter-widgets/controls",
          "model_name": "DescriptionStyleModel",
          "model_module_version": "1.5.0",
          "state": {
            "_model_module": "@jupyter-widgets/controls",
            "_model_module_version": "1.5.0",
            "_model_name": "DescriptionStyleModel",
            "_view_count": null,
            "_view_module": "@jupyter-widgets/base",
            "_view_module_version": "1.2.0",
            "_view_name": "StyleView",
            "description_width": ""
          }
        },
        "a5a3a301c5894ff99307d245c207dc5d": {
          "model_module": "@jupyter-widgets/base",
          "model_name": "LayoutModel",
          "model_module_version": "1.2.0",
          "state": {
            "_model_module": "@jupyter-widgets/base",
            "_model_module_version": "1.2.0",
            "_model_name": "LayoutModel",
            "_view_count": null,
            "_view_module": "@jupyter-widgets/base",
            "_view_module_version": "1.2.0",
            "_view_name": "LayoutView",
            "align_content": null,
            "align_items": null,
            "align_self": null,
            "border": null,
            "bottom": null,
            "display": null,
            "flex": null,
            "flex_flow": null,
            "grid_area": null,
            "grid_auto_columns": null,
            "grid_auto_flow": null,
            "grid_auto_rows": null,
            "grid_column": null,
            "grid_gap": null,
            "grid_row": null,
            "grid_template_areas": null,
            "grid_template_columns": null,
            "grid_template_rows": null,
            "height": null,
            "justify_content": null,
            "justify_items": null,
            "left": null,
            "margin": null,
            "max_height": null,
            "max_width": null,
            "min_height": null,
            "min_width": null,
            "object_fit": null,
            "object_position": null,
            "order": null,
            "overflow": null,
            "overflow_x": null,
            "overflow_y": null,
            "padding": null,
            "right": null,
            "top": null,
            "visibility": null,
            "width": null
          }
        },
        "82991275ae9d4ec68c6266999f03ae27": {
          "model_module": "@jupyter-widgets/controls",
          "model_name": "ProgressStyleModel",
          "model_module_version": "1.5.0",
          "state": {
            "_model_module": "@jupyter-widgets/controls",
            "_model_module_version": "1.5.0",
            "_model_name": "ProgressStyleModel",
            "_view_count": null,
            "_view_module": "@jupyter-widgets/base",
            "_view_module_version": "1.2.0",
            "_view_name": "StyleView",
            "bar_color": null,
            "description_width": ""
          }
        },
        "2b6abaa7daaf4061a781dcb0b09f9d54": {
          "model_module": "@jupyter-widgets/base",
          "model_name": "LayoutModel",
          "model_module_version": "1.2.0",
          "state": {
            "_model_module": "@jupyter-widgets/base",
            "_model_module_version": "1.2.0",
            "_model_name": "LayoutModel",
            "_view_count": null,
            "_view_module": "@jupyter-widgets/base",
            "_view_module_version": "1.2.0",
            "_view_name": "LayoutView",
            "align_content": null,
            "align_items": null,
            "align_self": null,
            "border": null,
            "bottom": null,
            "display": null,
            "flex": null,
            "flex_flow": null,
            "grid_area": null,
            "grid_auto_columns": null,
            "grid_auto_flow": null,
            "grid_auto_rows": null,
            "grid_column": null,
            "grid_gap": null,
            "grid_row": null,
            "grid_template_areas": null,
            "grid_template_columns": null,
            "grid_template_rows": null,
            "height": null,
            "justify_content": null,
            "justify_items": null,
            "left": null,
            "margin": null,
            "max_height": null,
            "max_width": null,
            "min_height": null,
            "min_width": null,
            "object_fit": null,
            "object_position": null,
            "order": null,
            "overflow": null,
            "overflow_x": null,
            "overflow_y": null,
            "padding": null,
            "right": null,
            "top": null,
            "visibility": null,
            "width": null
          }
        },
        "4472c902aae34926a4afa91a76ad2e8c": {
          "model_module": "@jupyter-widgets/controls",
          "model_name": "DescriptionStyleModel",
          "model_module_version": "1.5.0",
          "state": {
            "_model_module": "@jupyter-widgets/controls",
            "_model_module_version": "1.5.0",
            "_model_name": "DescriptionStyleModel",
            "_view_count": null,
            "_view_module": "@jupyter-widgets/base",
            "_view_module_version": "1.2.0",
            "_view_name": "StyleView",
            "description_width": ""
          }
        },
        "298f6b0b77be4fd48edd93aa857e4845": {
          "model_module": "@jupyter-widgets/controls",
          "model_name": "HBoxModel",
          "model_module_version": "1.5.0",
          "state": {
            "_dom_classes": [],
            "_model_module": "@jupyter-widgets/controls",
            "_model_module_version": "1.5.0",
            "_model_name": "HBoxModel",
            "_view_count": null,
            "_view_module": "@jupyter-widgets/controls",
            "_view_module_version": "1.5.0",
            "_view_name": "HBoxView",
            "box_style": "",
            "children": [
              "IPY_MODEL_c4d5f869305d4709b86455350cbe9cae",
              "IPY_MODEL_9cb3dcb1345947dcba8e40261b6e129d",
              "IPY_MODEL_31ec85ef33d34e0aba4d8463c3cd821a"
            ],
            "layout": "IPY_MODEL_24ba0d2123954e4e82730ec47809b271"
          }
        },
        "c4d5f869305d4709b86455350cbe9cae": {
          "model_module": "@jupyter-widgets/controls",
          "model_name": "HTMLModel",
          "model_module_version": "1.5.0",
          "state": {
            "_dom_classes": [],
            "_model_module": "@jupyter-widgets/controls",
            "_model_module_version": "1.5.0",
            "_model_name": "HTMLModel",
            "_view_count": null,
            "_view_module": "@jupyter-widgets/controls",
            "_view_module_version": "1.5.0",
            "_view_name": "HTMLView",
            "description": "",
            "description_tooltip": null,
            "layout": "IPY_MODEL_39ba24f136154a49bdeccb8b7f179645",
            "placeholder": "​",
            "style": "IPY_MODEL_f68aa4f164be48d6bb80e919b4e35bd2",
            "value": " Graph creation from Triplets: 100%"
          }
        },
        "9cb3dcb1345947dcba8e40261b6e129d": {
          "model_module": "@jupyter-widgets/controls",
          "model_name": "FloatProgressModel",
          "model_module_version": "1.5.0",
          "state": {
            "_dom_classes": [],
            "_model_module": "@jupyter-widgets/controls",
            "_model_module_version": "1.5.0",
            "_model_name": "FloatProgressModel",
            "_view_count": null,
            "_view_module": "@jupyter-widgets/controls",
            "_view_module_version": "1.5.0",
            "_view_name": "ProgressView",
            "bar_style": "",
            "description": "",
            "description_tooltip": null,
            "layout": "IPY_MODEL_27edbf0f244648e1be3fddb4a2cbf819",
            "max": 100,
            "min": 0,
            "orientation": "horizontal",
            "style": "IPY_MODEL_22f2451ed43b478ca1f101e861d6a245",
            "value": 100
          }
        },
        "31ec85ef33d34e0aba4d8463c3cd821a": {
          "model_module": "@jupyter-widgets/controls",
          "model_name": "HTMLModel",
          "model_module_version": "1.5.0",
          "state": {
            "_dom_classes": [],
            "_model_module": "@jupyter-widgets/controls",
            "_model_module_version": "1.5.0",
            "_model_name": "HTMLModel",
            "_view_count": null,
            "_view_module": "@jupyter-widgets/controls",
            "_view_module_version": "1.5.0",
            "_view_name": "HTMLView",
            "description": "",
            "description_tooltip": null,
            "layout": "IPY_MODEL_219429c336c948e6b077b62dfa6085b3",
            "placeholder": "​",
            "style": "IPY_MODEL_00a0ff1728c14a5684c482f1fff06888",
            "value": " 100.0/100 [00:00&lt;00:00, 1245.61%/s, status: FINISHED]"
          }
        },
        "24ba0d2123954e4e82730ec47809b271": {
          "model_module": "@jupyter-widgets/base",
          "model_name": "LayoutModel",
          "model_module_version": "1.2.0",
          "state": {
            "_model_module": "@jupyter-widgets/base",
            "_model_module_version": "1.2.0",
            "_model_name": "LayoutModel",
            "_view_count": null,
            "_view_module": "@jupyter-widgets/base",
            "_view_module_version": "1.2.0",
            "_view_name": "LayoutView",
            "align_content": null,
            "align_items": null,
            "align_self": null,
            "border": null,
            "bottom": null,
            "display": null,
            "flex": null,
            "flex_flow": null,
            "grid_area": null,
            "grid_auto_columns": null,
            "grid_auto_flow": null,
            "grid_auto_rows": null,
            "grid_column": null,
            "grid_gap": null,
            "grid_row": null,
            "grid_template_areas": null,
            "grid_template_columns": null,
            "grid_template_rows": null,
            "height": null,
            "justify_content": null,
            "justify_items": null,
            "left": null,
            "margin": null,
            "max_height": null,
            "max_width": null,
            "min_height": null,
            "min_width": null,
            "object_fit": null,
            "object_position": null,
            "order": null,
            "overflow": null,
            "overflow_x": null,
            "overflow_y": null,
            "padding": null,
            "right": null,
            "top": null,
            "visibility": null,
            "width": null
          }
        },
        "39ba24f136154a49bdeccb8b7f179645": {
          "model_module": "@jupyter-widgets/base",
          "model_name": "LayoutModel",
          "model_module_version": "1.2.0",
          "state": {
            "_model_module": "@jupyter-widgets/base",
            "_model_module_version": "1.2.0",
            "_model_name": "LayoutModel",
            "_view_count": null,
            "_view_module": "@jupyter-widgets/base",
            "_view_module_version": "1.2.0",
            "_view_name": "LayoutView",
            "align_content": null,
            "align_items": null,
            "align_self": null,
            "border": null,
            "bottom": null,
            "display": null,
            "flex": null,
            "flex_flow": null,
            "grid_area": null,
            "grid_auto_columns": null,
            "grid_auto_flow": null,
            "grid_auto_rows": null,
            "grid_column": null,
            "grid_gap": null,
            "grid_row": null,
            "grid_template_areas": null,
            "grid_template_columns": null,
            "grid_template_rows": null,
            "height": null,
            "justify_content": null,
            "justify_items": null,
            "left": null,
            "margin": null,
            "max_height": null,
            "max_width": null,
            "min_height": null,
            "min_width": null,
            "object_fit": null,
            "object_position": null,
            "order": null,
            "overflow": null,
            "overflow_x": null,
            "overflow_y": null,
            "padding": null,
            "right": null,
            "top": null,
            "visibility": null,
            "width": null
          }
        },
        "f68aa4f164be48d6bb80e919b4e35bd2": {
          "model_module": "@jupyter-widgets/controls",
          "model_name": "DescriptionStyleModel",
          "model_module_version": "1.5.0",
          "state": {
            "_model_module": "@jupyter-widgets/controls",
            "_model_module_version": "1.5.0",
            "_model_name": "DescriptionStyleModel",
            "_view_count": null,
            "_view_module": "@jupyter-widgets/base",
            "_view_module_version": "1.2.0",
            "_view_name": "StyleView",
            "description_width": ""
          }
        },
        "27edbf0f244648e1be3fddb4a2cbf819": {
          "model_module": "@jupyter-widgets/base",
          "model_name": "LayoutModel",
          "model_module_version": "1.2.0",
          "state": {
            "_model_module": "@jupyter-widgets/base",
            "_model_module_version": "1.2.0",
            "_model_name": "LayoutModel",
            "_view_count": null,
            "_view_module": "@jupyter-widgets/base",
            "_view_module_version": "1.2.0",
            "_view_name": "LayoutView",
            "align_content": null,
            "align_items": null,
            "align_self": null,
            "border": null,
            "bottom": null,
            "display": null,
            "flex": null,
            "flex_flow": null,
            "grid_area": null,
            "grid_auto_columns": null,
            "grid_auto_flow": null,
            "grid_auto_rows": null,
            "grid_column": null,
            "grid_gap": null,
            "grid_row": null,
            "grid_template_areas": null,
            "grid_template_columns": null,
            "grid_template_rows": null,
            "height": null,
            "justify_content": null,
            "justify_items": null,
            "left": null,
            "margin": null,
            "max_height": null,
            "max_width": null,
            "min_height": null,
            "min_width": null,
            "object_fit": null,
            "object_position": null,
            "order": null,
            "overflow": null,
            "overflow_x": null,
            "overflow_y": null,
            "padding": null,
            "right": null,
            "top": null,
            "visibility": null,
            "width": null
          }
        },
        "22f2451ed43b478ca1f101e861d6a245": {
          "model_module": "@jupyter-widgets/controls",
          "model_name": "ProgressStyleModel",
          "model_module_version": "1.5.0",
          "state": {
            "_model_module": "@jupyter-widgets/controls",
            "_model_module_version": "1.5.0",
            "_model_name": "ProgressStyleModel",
            "_view_count": null,
            "_view_module": "@jupyter-widgets/base",
            "_view_module_version": "1.2.0",
            "_view_name": "StyleView",
            "bar_color": null,
            "description_width": ""
          }
        },
        "219429c336c948e6b077b62dfa6085b3": {
          "model_module": "@jupyter-widgets/base",
          "model_name": "LayoutModel",
          "model_module_version": "1.2.0",
          "state": {
            "_model_module": "@jupyter-widgets/base",
            "_model_module_version": "1.2.0",
            "_model_name": "LayoutModel",
            "_view_count": null,
            "_view_module": "@jupyter-widgets/base",
            "_view_module_version": "1.2.0",
            "_view_name": "LayoutView",
            "align_content": null,
            "align_items": null,
            "align_self": null,
            "border": null,
            "bottom": null,
            "display": null,
            "flex": null,
            "flex_flow": null,
            "grid_area": null,
            "grid_auto_columns": null,
            "grid_auto_flow": null,
            "grid_auto_rows": null,
            "grid_column": null,
            "grid_gap": null,
            "grid_row": null,
            "grid_template_areas": null,
            "grid_template_columns": null,
            "grid_template_rows": null,
            "height": null,
            "justify_content": null,
            "justify_items": null,
            "left": null,
            "margin": null,
            "max_height": null,
            "max_width": null,
            "min_height": null,
            "min_width": null,
            "object_fit": null,
            "object_position": null,
            "order": null,
            "overflow": null,
            "overflow_x": null,
            "overflow_y": null,
            "padding": null,
            "right": null,
            "top": null,
            "visibility": null,
            "width": null
          }
        },
        "00a0ff1728c14a5684c482f1fff06888": {
          "model_module": "@jupyter-widgets/controls",
          "model_name": "DescriptionStyleModel",
          "model_module_version": "1.5.0",
          "state": {
            "_model_module": "@jupyter-widgets/controls",
            "_model_module_version": "1.5.0",
            "_model_name": "DescriptionStyleModel",
            "_view_count": null,
            "_view_module": "@jupyter-widgets/base",
            "_view_module_version": "1.2.0",
            "_view_name": "StyleView",
            "description_width": ""
          }
        }
      }
    }
  },
  "nbformat": 4,
  "nbformat_minor": 5
}