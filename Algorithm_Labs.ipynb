{
  "cells": [
    {
      "cell_type": "markdown",
      "source": [
        "# **Environment Setup**"
      ],
      "metadata": {
        "id": "2o5GJRUp7gW5"
      },
      "id": "2o5GJRUp7gW5"
    },
    {
      "cell_type": "code",
      "execution_count": null,
      "id": "66c497c3",
      "metadata": {
        "id": "66c497c3"
      },
      "outputs": [],
      "source": [
        "try:\n",
        "    from graphdatascience import GraphDataScience\n",
        "except:\n",
        "    !pip install graphdatascience\n",
        "    from graphdatascience import GraphDataScience\n",
        "\n",
        "from graphdatascience.session import SessionMemory, DbmsConnectionInfo, GdsSessions, AuraAPICredentials, AlgorithmCategory\n",
        "from datetime import timedelta\n",
        "from getpass import getpass\n",
        "import pandas as pd\n",
        "from collections import defaultdict"
      ]
    },
    {
      "cell_type": "markdown",
      "id": "8c7f8327",
      "metadata": {
        "id": "8c7f8327"
      },
      "source": [
        "# **Connecting to Neo4j GDS**"
      ]
    },
    {
      "cell_type": "markdown",
      "source": [
        "Enter your Aura API credentials to be used for creating the compute for your GDS session."
      ],
      "metadata": {
        "id": "GdbMhGuFs2od"
      },
      "id": "GdbMhGuFs2od"
    },
    {
      "cell_type": "code",
      "source": [
        "client_id = getpass(\"Aura client id\")\n",
        "client_secret = getpass(\"Aura client secret\")"
      ],
      "metadata": {
        "id": "jdRXuVGIs6xg"
      },
      "id": "jdRXuVGIs6xg",
      "execution_count": null,
      "outputs": []
    },
    {
      "cell_type": "markdown",
      "source": [
        "Create the sessions object."
      ],
      "metadata": {
        "id": "pEgryAVStBcT"
      },
      "id": "pEgryAVStBcT"
    },
    {
      "cell_type": "code",
      "source": [
        "sessions = GdsSessions(api_credentials=AuraAPICredentials(client_id, client_secret))"
      ],
      "metadata": {
        "id": "FnA0QY4gs9jX"
      },
      "id": "FnA0QY4gs9jX",
      "execution_count": null,
      "outputs": []
    },
    {
      "cell_type": "markdown",
      "source": [
        "Enter the connection information for your source database."
      ],
      "metadata": {
        "id": "1hdWTq_atE6C"
      },
      "id": "1hdWTq_atE6C"
    },
    {
      "cell_type": "code",
      "source": [
        "db_uri = \"neo4j+s://81c642ac.databases.neo4j.io\"\n",
        "db_user = getpass(\"database user\")\n",
        "db_password = getpass(\"database password\")"
      ],
      "metadata": {
        "id": "ohpiN17UtENg"
      },
      "id": "ohpiN17UtENg",
      "execution_count": null,
      "outputs": []
    },
    {
      "cell_type": "markdown",
      "source": [
        "Estimate the RAM for the session that we will create."
      ],
      "metadata": {
        "id": "BioJvf91tNW1"
      },
      "id": "BioJvf91tNW1"
    },
    {
      "cell_type": "code",
      "source": [
        "memory = sessions.estimate(\n",
        "    node_count=900000,\n",
        "    relationship_count=4000000,\n",
        "    algorithm_categories=[AlgorithmCategory.CENTRALITY,\n",
        "                          AlgorithmCategory.COMMUNITY_DETECTION,\n",
        "                          AlgorithmCategory.PATH_FINDING,\n",
        "                          AlgorithmCategory.SIMILARITY,\n",
        "                          AlgorithmCategory.NODE_EMBEDDING],\n",
        ")"
      ],
      "metadata": {
        "id": "DtWLxL_PtR2d"
      },
      "id": "DtWLxL_PtR2d",
      "execution_count": null,
      "outputs": []
    },
    {
      "cell_type": "markdown",
      "source": [
        "Create the session."
      ],
      "metadata": {
        "id": "CnEni4LTtzMH"
      },
      "id": "CnEni4LTtzMH"
    },
    {
      "cell_type": "code",
      "source": [
        "db_connection = DbmsConnectionInfo(db_uri, db_user, db_password)\n",
        "gds = sessions.get_or_create(\n",
        "    session_name=\"algorithm_lab\",\n",
        "    memory=memory,\n",
        "    ttl=timedelta(minutes=60),\n",
        "    db_connection=db_connection\n",
        ")"
      ],
      "metadata": {
        "id": "ca8aSdTdty4u"
      },
      "id": "ca8aSdTdty4u",
      "execution_count": null,
      "outputs": []
    },
    {
      "cell_type": "markdown",
      "id": "ee568efc",
      "metadata": {
        "id": "ee568efc"
      },
      "source": [
        "## **1. Centrality**\n",
        "### Find the five Articles with the highest influence, based on CITES relationships."
      ]
    },
    {
      "cell_type": "markdown",
      "id": "bcc4f46c",
      "metadata": {
        "id": "bcc4f46c"
      },
      "source": [
        "### 1.1 Create the graph projection\n",
        "*Use Article nodes and CITES relationships*\n",
        "\n",
        "Cypher Projection documentation can be found here: https://neo4j.com/docs/graph-data-science-client/current/gds-session/#_syntax_2"
      ]
    },
    {
      "cell_type": "code",
      "source": [
        "query = \"\"\"your code here\"\"\"\n",
        "\n",
        "G_citations, result = #your code here"
      ],
      "metadata": {
        "id": "9T_LuNmW8KSd"
      },
      "id": "9T_LuNmW8KSd",
      "execution_count": null,
      "outputs": []
    },
    {
      "cell_type": "code",
      "execution_count": null,
      "id": "f379ce28",
      "metadata": {
        "id": "f379ce28",
        "cellView": "form"
      },
      "outputs": [],
      "source": [
        "#@title Solution:\n",
        "query = \"\"\"MATCH (a1:Article)-[:CITES]->(a2)\n",
        "           RETURN gds.graph.project.remote(a1, a2)\"\"\"\n",
        "\n",
        "G_citations, result = gds.graph.project(\"citations\", query)\n",
        "result"
      ]
    },
    {
      "cell_type": "markdown",
      "id": "c190cc7a",
      "metadata": {
        "id": "c190cc7a"
      },
      "source": [
        "### 1.2 Execute the PageRank algorithm\n",
        "Add PageRank scores to the in memory graph (use mutate mode).\n",
        "\n",
        "PageRank documentation can be found here: https://neo4j.com/docs/graph-data-science/current/algorithms/page-rank/"
      ]
    },
    {
      "cell_type": "code",
      "source": [
        "page_rank_results = #your code here"
      ],
      "metadata": {
        "id": "7y2Icmwl9OF7"
      },
      "id": "7y2Icmwl9OF7",
      "execution_count": null,
      "outputs": []
    },
    {
      "cell_type": "code",
      "execution_count": null,
      "id": "762c4168",
      "metadata": {
        "id": "762c4168",
        "cellView": "form"
      },
      "outputs": [],
      "source": [
        "#@title Solution:\n",
        "page_rank_results = gds.pageRank.mutate(G_citations, mutateProperty=\"pageRank\")\n",
        "page_rank_results\n"
      ]
    },
    {
      "cell_type": "markdown",
      "id": "d0f44bcc",
      "metadata": {
        "id": "d0f44bcc"
      },
      "source": [
        "### 1.3 Check results\n",
        "Stream the PageRank property from the in memory graph to a pandas data frame. Along with the node id and page rank score, include the article title in the resulting pandas data frame.\n",
        "\n",
        "Once you have the pandas data frame, sort it in pandas to show the top 5 articles with the highest PageRank."
      ]
    },
    {
      "cell_type": "code",
      "source": [
        "page_rank_df = gds.graph.nodeProperties.stream('your parameters here')\n",
        "page_rank_df.sort_values(\"pageRank\", ascending=False).head(5)\n"
      ],
      "metadata": {
        "id": "zVP4h-6u9uav"
      },
      "id": "zVP4h-6u9uav",
      "execution_count": null,
      "outputs": []
    },
    {
      "cell_type": "code",
      "execution_count": null,
      "id": "3e4c96b3",
      "metadata": {
        "id": "3e4c96b3",
        "cellView": "form"
      },
      "outputs": [],
      "source": [
        "#@title Solution:\n",
        "page_rank_df = gds.graph.nodeProperties.stream(G_citations, [\"pageRank\"], db_node_properties=[\"title\"], separate_property_columns=True)\n",
        "page_rank_df.sort_values(\"pageRank\", ascending=False).head(5)"
      ]
    },
    {
      "cell_type": "markdown",
      "id": "1e09018d",
      "metadata": {
        "id": "1e09018d"
      },
      "source": [
        "### 1.4 Delete the projected graph"
      ]
    },
    {
      "cell_type": "code",
      "source": [
        "#your code here"
      ],
      "metadata": {
        "id": "eZlXV3GN-JUM"
      },
      "id": "eZlXV3GN-JUM",
      "execution_count": null,
      "outputs": []
    },
    {
      "cell_type": "code",
      "execution_count": null,
      "id": "3f638b34",
      "metadata": {
        "id": "3f638b34",
        "cellView": "form"
      },
      "outputs": [],
      "source": [
        "#@title Solution:\n",
        "G_citations.drop()"
      ]
    },
    {
      "cell_type": "markdown",
      "id": "cbba1e18",
      "metadata": {
        "id": "cbba1e18"
      },
      "source": [
        "# **2. Community detection**\n",
        "### Identify communities of authors who tend to collaborate with each other"
      ]
    },
    {
      "cell_type": "markdown",
      "id": "41c6ecab",
      "metadata": {
        "id": "41c6ecab"
      },
      "source": [
        "### 2.1 Create the graph projection\n",
        "*Use Author nodes and undirected COLABORATED_WITH relationships and the publications property on the relationships.*\n",
        "\n",
        "Cypher Projection documentation can be found here: https://neo4j.com/docs/graph-data-science/current/management-ops/graph-creation/graph-project-cypher-projection/\n"
      ]
    },
    {
      "cell_type": "code",
      "source": [
        "query = \"\"\"your code here\"\"\"\n",
        "\n",
        "g_coauthors, result = #your code here"
      ],
      "metadata": {
        "id": "teX_QgJO_Mj4"
      },
      "id": "teX_QgJO_Mj4",
      "execution_count": null,
      "outputs": []
    },
    {
      "cell_type": "code",
      "source": [
        "#@title Solution:\n",
        "query = \"\"\"\n",
        "    MATCH (a:Author)-[r:COLLABORATED_WITH]->(b)\n",
        "    RETURN gds.graph.project.remote(a, b,\n",
        "      {\n",
        "        relationshipType: 'COLLABORATED_WITH',\n",
        "        relationshipProperties: {publications: r.publications}\n",
        "      }\n",
        "    )\n",
        "\"\"\"\n",
        "\n",
        "g_coauthors, result = gds.graph.project(\"coauthors\", query, undirected_relationship_types=[\"COLLABORATED_WITH\"])\n",
        "\n",
        "result"
      ],
      "metadata": {
        "cellView": "form",
        "id": "HWExRWNu0kCV"
      },
      "id": "HWExRWNu0kCV",
      "execution_count": null,
      "outputs": []
    },
    {
      "cell_type": "markdown",
      "id": "b675bfdb",
      "metadata": {
        "id": "b675bfdb"
      },
      "source": [
        "### 2.2 Check the number of weakly connected components\n",
        "*It's probably not useful to run Louvain on tiny disconnected components*\n",
        "\n",
        "WCC documetnation can be found here: https://neo4j.com/docs/graph-data-science/current/algorithms/wcc/"
      ]
    },
    {
      "cell_type": "code",
      "source": [
        "wcc_results = #your code here"
      ],
      "metadata": {
        "id": "Ix05n5RrBgEp"
      },
      "id": "Ix05n5RrBgEp",
      "execution_count": null,
      "outputs": []
    },
    {
      "cell_type": "code",
      "execution_count": null,
      "id": "ed0017dd",
      "metadata": {
        "id": "ed0017dd",
        "cellView": "form"
      },
      "outputs": [],
      "source": [
        "#@title Solution:\n",
        "wcc_results = gds.wcc.stats(g_coauthors)\n",
        "wcc_results"
      ]
    },
    {
      "cell_type": "markdown",
      "source": [
        "Take a closer look at the component distribution:"
      ],
      "metadata": {
        "id": "PbxQtxSQCODO"
      },
      "id": "PbxQtxSQCODO"
    },
    {
      "cell_type": "code",
      "execution_count": null,
      "id": "ea07a74e",
      "metadata": {
        "id": "ea07a74e"
      },
      "outputs": [],
      "source": [
        "wcc_results['componentDistribution']"
      ]
    },
    {
      "cell_type": "markdown",
      "id": "3557f40b",
      "metadata": {
        "id": "3557f40b"
      },
      "source": [
        "We see what looks like one giant component, and lots of little islands. Let's trim the tiny islands and work only with the big component."
      ]
    },
    {
      "cell_type": "markdown",
      "source": [
        "### 2.3 Trim the tiny components\n",
        "\n",
        "Run wcc in mutate mode to add a wccId property to nodes."
      ],
      "metadata": {
        "id": "Wh7bG7_AC0Y_"
      },
      "id": "Wh7bG7_AC0Y_"
    },
    {
      "cell_type": "code",
      "execution_count": null,
      "id": "346b501b",
      "metadata": {
        "id": "346b501b"
      },
      "outputs": [],
      "source": [
        "gds.wcc.mutate(g_coauthors, mutateProperty = \"componentId\")"
      ]
    },
    {
      "cell_type": "markdown",
      "source": [
        "Stream the component ids to a pandas data frame. Group the data frame by component id and find the id with the larget count using pandas."
      ],
      "metadata": {
        "id": "glU1iXStDZGe"
      },
      "id": "glU1iXStDZGe"
    },
    {
      "cell_type": "code",
      "source": [
        "wcc_df = #your code here\n",
        "component_id = wcc_df['propertyValue'].value_counts().index[0]\n",
        "print(component_id)"
      ],
      "metadata": {
        "id": "w7gamExrdnXQ"
      },
      "id": "w7gamExrdnXQ",
      "execution_count": null,
      "outputs": []
    },
    {
      "cell_type": "code",
      "source": [
        "#@title Solution:\n",
        "wcc_df = gds.graph.nodeProperty.stream(g_coauthors, \"componentId\")\n",
        "component_id = wcc_df['propertyValue'].value_counts().index[0]\n",
        "print(component_id)"
      ],
      "metadata": {
        "id": "hNt08SF6ES0U",
        "cellView": "form"
      },
      "id": "hNt08SF6ES0U",
      "execution_count": null,
      "outputs": []
    },
    {
      "cell_type": "markdown",
      "source": [
        "Use gds.graph.filter() to created a filtered subgraph where all nodes have the component id of the largest WCC component."
      ],
      "metadata": {
        "id": "shXeKDl6D9RT"
      },
      "id": "shXeKDl6D9RT"
    },
    {
      "cell_type": "code",
      "source": [
        "# your code here"
      ],
      "metadata": {
        "id": "x1dTX4osElpS"
      },
      "id": "x1dTX4osElpS",
      "execution_count": null,
      "outputs": []
    },
    {
      "cell_type": "code",
      "execution_count": null,
      "id": "758d409a",
      "metadata": {
        "id": "758d409a",
        "cellView": "form"
      },
      "outputs": [],
      "source": [
        "#@title Solution:\n",
        "g_connected_coauthors, result = gds.graph.filter(\"connected_coauthors\", g_coauthors, \"n.componentId = 0\", \"*\")\n",
        "result"
      ]
    },
    {
      "cell_type": "markdown",
      "id": "4b8e88f6",
      "metadata": {
        "id": "4b8e88f6"
      },
      "source": [
        "Drop the old graph projection."
      ]
    },
    {
      "cell_type": "code",
      "execution_count": null,
      "id": "df8c9767",
      "metadata": {
        "id": "df8c9767"
      },
      "outputs": [],
      "source": [
        "gds.graph.drop(g_coauthors)"
      ]
    },
    {
      "cell_type": "markdown",
      "id": "6521b376",
      "metadata": {
        "id": "6521b376"
      },
      "source": [
        "### 2.4 Run Louvain in *stats* mode and inspect the results\n",
        "Louvain documentation can be found here: https://neo4j.com/docs/graph-data-science/current/algorithms/louvain/"
      ]
    },
    {
      "cell_type": "code",
      "source": [
        "louvain_stats = #your code here\n",
        "louvain_stats"
      ],
      "metadata": {
        "id": "Yv5a3DtzH_zf"
      },
      "id": "Yv5a3DtzH_zf",
      "execution_count": null,
      "outputs": []
    },
    {
      "cell_type": "code",
      "execution_count": null,
      "id": "de78f7c0",
      "metadata": {
        "id": "de78f7c0",
        "cellView": "form"
      },
      "outputs": [],
      "source": [
        "#@title Solution:\n",
        "louvain_stats = gds.louvain.stats(g_connected_coauthors, relationshipWeightProperty=\"publications\")\n",
        "louvain_stats"
      ]
    },
    {
      "cell_type": "markdown",
      "id": "08b0aac7",
      "metadata": {
        "id": "08b0aac7"
      },
      "source": [
        "Observe the modularity increase over successive iterations of the algorithm:"
      ]
    },
    {
      "cell_type": "code",
      "execution_count": null,
      "id": "be4a48f8",
      "metadata": {
        "id": "be4a48f8"
      },
      "outputs": [],
      "source": [
        "louvain_stats['modularities']"
      ]
    },
    {
      "cell_type": "markdown",
      "id": "272f779d",
      "metadata": {
        "id": "272f779d"
      },
      "source": [
        "Observe the distribution of community sizes:"
      ]
    },
    {
      "cell_type": "code",
      "execution_count": null,
      "id": "5a1c9818",
      "metadata": {
        "id": "5a1c9818"
      },
      "outputs": [],
      "source": [
        "louvain_stats['communityDistribution']"
      ]
    },
    {
      "cell_type": "markdown",
      "source": [
        "### 2.5 Examine Louvain communities\n",
        "\n",
        "Run louvain in mutate mode to create a coauthorCommunityId property."
      ],
      "metadata": {
        "id": "n2i8H2B6J-s3"
      },
      "id": "n2i8H2B6J-s3"
    },
    {
      "cell_type": "code",
      "source": [
        "louvain_results = #your code here\n",
        "louvain_results"
      ],
      "metadata": {
        "id": "_ZfrJAFdJNeY"
      },
      "id": "_ZfrJAFdJNeY",
      "execution_count": null,
      "outputs": []
    },
    {
      "cell_type": "code",
      "execution_count": null,
      "id": "8bec5501",
      "metadata": {
        "id": "8bec5501",
        "cellView": "form"
      },
      "outputs": [],
      "source": [
        "#@title Solution:\n",
        "louvain_results = gds.louvain.mutate(g_connected_coauthors, relationshipWeightProperty=\"publications\", mutateProperty=\"coauthorCommunityId\")\n",
        "louvain_results"
      ]
    },
    {
      "cell_type": "markdown",
      "id": "1f22e077",
      "metadata": {
        "id": "1f22e077"
      },
      "source": [
        "*Note that the community count and max community size here is a little different than when we ran in stats mode. This is not a perfectly deterministic algorithm. Communities on successive runs will be similar, but some edge cases might float between neighboring communities.*"
      ]
    },
    {
      "cell_type": "markdown",
      "id": "d85f9b5f",
      "metadata": {
        "id": "d85f9b5f"
      },
      "source": [
        "Stream the Louvain community ids into a dataframe. Then group by the community id and count the number of rows. Sort by row count and return the top 20 rows."
      ]
    },
    {
      "cell_type": "code",
      "source": [
        "coauthor_community_df = #your code here\n",
        "coauthor_community_df.head(20)"
      ],
      "metadata": {
        "id": "wS36BYjQMHq8"
      },
      "id": "wS36BYjQMHq8",
      "execution_count": null,
      "outputs": []
    },
    {
      "cell_type": "code",
      "execution_count": null,
      "id": "68668a3b",
      "metadata": {
        "id": "68668a3b",
        "cellView": "form"
      },
      "outputs": [],
      "source": [
        "#@title Solution:\n",
        "coauthor_community_df = gds.graph.nodeProperty.stream(g_connected_coauthors, \"coauthorCommunityId\")\n",
        "community_size_df = coauthor_community_df['propertyValue'].value_counts()\n",
        "community_size_df.head(20)\n"
      ]
    },
    {
      "cell_type": "markdown",
      "id": "22fef3bc",
      "metadata": {
        "id": "22fef3bc"
      },
      "source": [
        "# **3. Path Finding**\n",
        "Find the shortest path between two authors based on COAUTHOR relationships, using Dijkstra's algorithm.\n",
        "\n",
        "*This exercises reuses the g_connected_coauthors projection from exercise 2.  If you have not done exercise 2, complete 2.1 to 2.3 now.*"
      ]
    },
    {
      "cell_type": "markdown",
      "id": "b3107e9f",
      "metadata": {
        "id": "b3107e9f"
      },
      "source": [
        "### 3.1 Get node IDs\n",
        "Using Cypher, fetch the node IDs for authors **W F Sewell** and **Y Suzuki**"
      ]
    },
    {
      "cell_type": "code",
      "source": [
        "node_id_df = gds.run_cypher(\"\"\"\n",
        "  #your cypher here\n",
        "\"\"\")\n",
        "node_id_df"
      ],
      "metadata": {
        "id": "mjTz1HqVOMQa"
      },
      "id": "mjTz1HqVOMQa",
      "execution_count": null,
      "outputs": []
    },
    {
      "cell_type": "code",
      "execution_count": null,
      "id": "bcce5eea",
      "metadata": {
        "id": "bcce5eea",
        "cellView": "form"
      },
      "outputs": [],
      "source": [
        "#@title Solution:\n",
        "node_id_df = gds.run_cypher(\"\"\"\n",
        "    MATCH (a1:Author {fullName: \"W F Sewell\"}), (a2:Author {fullName: \"Y Suzuki\"})\n",
        "    RETURN id(a1) as id1, id(a2) as id2\"\"\")\n",
        "node_id_df"
      ]
    },
    {
      "cell_type": "markdown",
      "id": "429cd2c6",
      "metadata": {
        "id": "429cd2c6"
      },
      "source": [
        "### 3.2 Execute Dijkstra's algorithm\n",
        "Pass those node IDs as parameters to the Dikjstra algorithm, and return all the node IDs along the path.\n",
        "\n",
        "*Note that the GDS driver wants a Python integer, not a NumPy int64, so we're casting the ID before passing it to the function.*\n",
        "\n",
        "Dijkstra documetnation can be found here: https://neo4j.com/docs/graph-data-science/current/algorithms/dijkstra-source-target/"
      ]
    },
    {
      "cell_type": "code",
      "source": [
        "shortest_path = #your code here\n",
        "shortest_path"
      ],
      "metadata": {
        "id": "ZgDBAKhyO8qQ"
      },
      "id": "ZgDBAKhyO8qQ",
      "execution_count": null,
      "outputs": []
    },
    {
      "cell_type": "code",
      "execution_count": null,
      "id": "622792a3",
      "metadata": {
        "id": "622792a3",
        "cellView": "form"
      },
      "outputs": [],
      "source": [
        "#@title Solution:\n",
        "shortest_path = gds.shortestPath.dijkstra.stream(g_connected_coauthors,\n",
        "                                                 sourceNode=int(node_id_df.loc[0,'id1']),\n",
        "                                                 targetNode=int(node_id_df.loc[0,'id2']))\n",
        "shortest_path"
      ]
    },
    {
      "cell_type": "markdown",
      "id": "b78a039a",
      "metadata": {
        "id": "b78a039a"
      },
      "source": [
        "Call the asNode function to get python objects representing each node in the path, and get the fullName property from each node."
      ]
    },
    {
      "cell_type": "code",
      "execution_count": null,
      "id": "97ab3188",
      "metadata": {
        "id": "97ab3188"
      },
      "outputs": [],
      "source": [
        "[gds.util.asNode(nodeId).get('fullName') for nodeId in shortest_path['nodeIds'][0]]"
      ]
    },
    {
      "cell_type": "markdown",
      "id": "7fbcf166",
      "metadata": {
        "id": "7fbcf166"
      },
      "source": [
        "### 3.3 Delete the projected graph"
      ]
    },
    {
      "cell_type": "code",
      "execution_count": null,
      "id": "0ca55ff4",
      "metadata": {
        "id": "0ca55ff4"
      },
      "outputs": [],
      "source": [
        "gds.graph.drop(g_connected_coauthors)"
      ]
    },
    {
      "cell_type": "markdown",
      "id": "966818ba",
      "metadata": {
        "id": "966818ba"
      },
      "source": [
        "# **4. Similarity**"
      ]
    },
    {
      "cell_type": "markdown",
      "source": [
        "## 4.1 Neighborhood-based similarity\n",
        "Find the authors who have a high Jaccard similarity, based on the papers they have coauthored."
      ],
      "metadata": {
        "id": "9Yw-YbdKQvQ-"
      },
      "id": "9Yw-YbdKQvQ-"
    },
    {
      "cell_type": "markdown",
      "id": "7ad53072",
      "metadata": {
        "id": "7ad53072"
      },
      "source": [
        "### 4.1.1 Create the graph projection\n",
        "Use Article nodes, Author nodes, and WROTE relationships. Include source node labels, target node labels, and relationship type in your projection because we will want to distinguish the WROTE relationships from the new IS_SIMILAR relationships that we will be creating with the algorithm."
      ]
    },
    {
      "cell_type": "code",
      "source": [
        "query = \"\"\"your code here\"\"\"\n",
        "\n",
        "g_article_authors, result = #your code here\n",
        "result\n"
      ],
      "metadata": {
        "id": "K7cidXUHQdhC"
      },
      "id": "K7cidXUHQdhC",
      "execution_count": null,
      "outputs": []
    },
    {
      "cell_type": "code",
      "execution_count": null,
      "id": "c5e6b5b5",
      "metadata": {
        "id": "c5e6b5b5",
        "cellView": "form"
      },
      "outputs": [],
      "source": [
        "#@title Solution:\n",
        "query = \"\"\"MATCH (au:Author)-[:WROTE]->(ar:Article)\n",
        "           RETURN gds.graph.project.remote(au, ar,\n",
        "                    {\n",
        "                      sourceNodeLabels:'Author',\n",
        "                      targetNodeLabels:'Article',\n",
        "                      relationshipType: 'WROTE'\n",
        "                    })\"\"\"\n",
        "\n",
        "g_article_authors, result = gds.graph.project(\"article_authors\", query)\n",
        "result"
      ]
    },
    {
      "cell_type": "markdown",
      "id": "4bea9b45",
      "metadata": {
        "id": "4bea9b45"
      },
      "source": [
        "### 4.1.2 Run Node Similarity in stats mode\n",
        "This takes a few minutes because of the quadratic comparison.\n",
        "\n",
        "Node Similarity documentation can be found here: https://neo4j.com/docs/graph-data-science/current/algorithms/node-similarity/"
      ]
    },
    {
      "cell_type": "code",
      "source": [
        "similarity_stats = #your code here\n",
        "similarity_stats"
      ],
      "metadata": {
        "id": "lzFHP_ISRAh_"
      },
      "id": "lzFHP_ISRAh_",
      "execution_count": null,
      "outputs": []
    },
    {
      "cell_type": "code",
      "execution_count": null,
      "id": "f95e6cad",
      "metadata": {
        "id": "f95e6cad",
        "cellView": "form"
      },
      "outputs": [],
      "source": [
        "#@title Solution:\n",
        "similarity_stats = gds.nodeSimilarity.stats(g_article_authors,\n",
        "                            topK = 3,\n",
        "                            degreeCutoff = 4,\n",
        "                            similarityCutoff = 0.5)\n",
        "similarity_stats"
      ]
    },
    {
      "cell_type": "markdown",
      "id": "55399fdf",
      "metadata": {
        "id": "55399fdf"
      },
      "source": [
        "18,200 pairs seems reasonable. Let's look at those results in detail."
      ]
    },
    {
      "cell_type": "markdown",
      "source": [
        "### 4.1.3 Call node similarity in mutate mode\n",
        "Remember that you need to specify `mutateRelationshipType` and `mutateProperty`. Call the new relationship `HAS_SIMILAR_NEIGHBORS` and the new property `similarity`."
      ],
      "metadata": {
        "id": "lT218zHrVAmX"
      },
      "id": "lT218zHrVAmX"
    },
    {
      "cell_type": "code",
      "source": [
        "#your code here"
      ],
      "metadata": {
        "id": "DdSuoWSyVQ3M"
      },
      "id": "DdSuoWSyVQ3M",
      "execution_count": null,
      "outputs": []
    },
    {
      "cell_type": "code",
      "execution_count": null,
      "id": "1109fe6e",
      "metadata": {
        "id": "1109fe6e",
        "cellView": "form"
      },
      "outputs": [],
      "source": [
        "#@title Solution:\n",
        "gds.nodeSimilarity.mutate(g_article_authors,\n",
        "                        degreeCutoff = 4,\n",
        "                        topK = 3,\n",
        "                        similarityCutoff = 0.5,\n",
        "                        mutateRelationshipType = \"HAS_SIMILAR_NEIGHBORS\",\n",
        "                        mutateProperty = \"similarity\")"
      ]
    },
    {
      "cell_type": "markdown",
      "source": [
        "Use the gds.graph.relationshipProperty.stream procedure to stream the results."
      ],
      "metadata": {
        "id": "6J45qsRRVEgG"
      },
      "id": "6J45qsRRVEgG"
    },
    {
      "cell_type": "code",
      "source": [
        "similar_neighbors_df = gds.graph.relationshipProperty.stream(g_article_authors, \"similarity\", \"HAS_SIMILAR_NEIGHBORS\")"
      ],
      "metadata": {
        "id": "sT_QWtXdVjIP"
      },
      "id": "sT_QWtXdVjIP",
      "execution_count": null,
      "outputs": []
    },
    {
      "cell_type": "markdown",
      "source": [
        "Get a table of node ids and author names. Join to the similar_neighbors_df."
      ],
      "metadata": {
        "id": "o13sfrVhYP8c"
      },
      "id": "o13sfrVhYP8c"
    },
    {
      "cell_type": "code",
      "source": [
        "author_names_df = gds.run_cypher(\"MATCH (a:Author) RETURN id(a) AS nodeId, a.fullName AS fullName\")"
      ],
      "metadata": {
        "id": "0iURx8t7WegT"
      },
      "id": "0iURx8t7WegT",
      "execution_count": null,
      "outputs": []
    },
    {
      "cell_type": "code",
      "source": [
        "similar_neighbors_df = pd.merge(similar_neighbors_df, author_names_df, left_on='sourceNodeId', right_on='nodeId', how='left')\n",
        "similar_neighbors_df = similar_neighbors_df.rename(columns={'fullName': 'sourceAuthorName', 'propertyValue': 'jaccardSimilarity'})\n",
        "similar_neighbors_df = similar_neighbors_df.drop(columns=['nodeId'])\n",
        "\n",
        "similar_neighbors_df = pd.merge(similar_neighbors_df, author_names_df, left_on='targetNodeId', right_on='nodeId', how='left')\n",
        "similar_neighbors_df = similar_neighbors_df.rename(columns={'fullName': 'targetAuthorName'})\n",
        "similar_neighbors_df = similar_neighbors_df.drop(columns=['nodeId'])\n",
        "\n",
        "similar_neighbors_df.sort_values(\"propertyValue\", ascending=False).head(20)\n"
      ],
      "metadata": {
        "id": "dhA79iRCWlJM"
      },
      "id": "dhA79iRCWlJM",
      "execution_count": null,
      "outputs": []
    },
    {
      "cell_type": "markdown",
      "id": "06f25c00",
      "metadata": {
        "id": "06f25c00"
      },
      "source": [
        "### 4.1.4 Delete the projected graph"
      ]
    },
    {
      "cell_type": "code",
      "execution_count": null,
      "id": "a84a8e43",
      "metadata": {
        "id": "a84a8e43"
      },
      "outputs": [],
      "source": [
        "g_article_authors.drop()"
      ]
    },
    {
      "cell_type": "markdown",
      "id": "3bf0f393",
      "metadata": {
        "id": "3bf0f393"
      },
      "source": [
        "## 4.2 Embeddings-based similarity\n",
        "\n",
        "Project Authors and Articles into a vector space. Then find the Authors who are nearest to each other in the vector space."
      ]
    },
    {
      "cell_type": "markdown",
      "source": [
        "### 4.2.1 Create an undirected WROTE relationship\n",
        "*Recall that FastRP prefers undirected graphs* You could create a new graph projection with WROTE as undirected, but you can also create a new undirected relationship in your existing graph based on the existing directed `WROTE` relationship.\n",
        "\n",
        "Use the function `gds.graph.relationships.toUndirected()` documeted here to create a new `WROTE_UNDIRECTED` relationship: https://neo4j.com/docs/graph-data-science/current/management-ops/graph-update/to-undirected/\n"
      ],
      "metadata": {
        "id": "YXIgELwBWJH0"
      },
      "id": "YXIgELwBWJH0"
    },
    {
      "cell_type": "code",
      "source": [
        "query = \"\"\"your code here\"\"\"\n",
        "\n",
        "G_author_articles, result = #your code here\n",
        "result"
      ],
      "metadata": {
        "id": "2RrkVFtYW97e"
      },
      "id": "2RrkVFtYW97e",
      "execution_count": null,
      "outputs": []
    },
    {
      "cell_type": "code",
      "execution_count": null,
      "id": "a0263f17",
      "metadata": {
        "id": "a0263f17",
        "cellView": "form"
      },
      "outputs": [],
      "source": [
        "#@title Solution:\n",
        "gds.graph.relationships.toUndirected(g_article_authors, \"WROTE\", mutate_relationship_type=\"WROTE_UNDIRECTED\")"
      ]
    },
    {
      "cell_type": "markdown",
      "id": "e41dbb02",
      "metadata": {
        "id": "e41dbb02"
      },
      "source": [
        "### 4.2.2 Check memory requirments\n",
        "Run a memory estimation to make sure we have enough heap to run FastRP on this graph projection"
      ]
    },
    {
      "cell_type": "code",
      "execution_count": null,
      "id": "066cf5cf",
      "metadata": {
        "id": "066cf5cf"
      },
      "outputs": [],
      "source": [
        "fastRP_estimate = gds.fastRP.mutate.estimate(g_article_authors,\n",
        "                                             relationshipTypes = [\"WROTE_UNDIRECTED\"],\n",
        "                                             embeddingDimension = 512,\n",
        "                                             iterationWeights = [0.0, 1.0, 1.0],\n",
        "                                             randomSeed = 25,\n",
        "                                             mutateProperty = \"fastRPEmbedding\")\n",
        "fastRP_estimate"
      ]
    },
    {
      "cell_type": "markdown",
      "id": "a097eba2",
      "metadata": {
        "id": "a097eba2"
      },
      "source": [
        "Looks like we're OK, because heapPercentageMax is less than 1."
      ]
    },
    {
      "cell_type": "markdown",
      "source": [
        "### 4.2.2 Add embeddings to the projected graph\n",
        "Use the same FastRP parameters that we used to estimate the needed memory.\n",
        "\n",
        "FastRP documentation can be found here: https://neo4j.com/docs/graph-data-science/current/machine-learning/node-embeddings/fastrp/"
      ],
      "metadata": {
        "id": "RozgYyUXXiQp"
      },
      "id": "RozgYyUXXiQp"
    },
    {
      "cell_type": "code",
      "source": [
        "fastRP_result = #your code here\n",
        "fastRP_result"
      ],
      "metadata": {
        "id": "bY5R5IQ7dggF"
      },
      "id": "bY5R5IQ7dggF",
      "execution_count": null,
      "outputs": []
    },
    {
      "cell_type": "code",
      "execution_count": null,
      "id": "b85bb6e4",
      "metadata": {
        "id": "b85bb6e4",
        "cellView": "form"
      },
      "outputs": [],
      "source": [
        "#@title Solution:\n",
        "fastRP_result = gds.fastRP.mutate(g_article_authors,\n",
        "                                  relationshipTypes = [\"WROTE_UNDIRECTED\"],\n",
        "                                  embeddingDimension = 512,\n",
        "                                  iterationWeights = [0.0, 1.0,1.0],\n",
        "                                  randomSeed = 25,\n",
        "                                  mutateProperty = \"fastRPEmbedding\")\n",
        "fastRP_result"
      ]
    },
    {
      "cell_type": "markdown",
      "id": "837d324d-21fe-4689-bf0c-6ca97dd7a258",
      "metadata": {
        "id": "837d324d-21fe-4689-bf0c-6ca97dd7a258"
      },
      "source": [
        "### 4.2.3 Identify similarities with KNN\n",
        "\n",
        "Use KNN to find similarities between Authors. We want to use the randomWalk initial sampler, so we use filtered KNN. That way we can walk along a path that connects Authors via Article nodes, but the similarity relationships we create will be filtered so that the source nodes and target nodes always have the Author label.\n",
        "\n",
        "* Run filtered KNN in mutate mode.\n",
        "* Only use the `WROTE_UNDIRECTED` relationship for the initialization random walks.\n",
        "* Base the KNN calculation on the `fastRPEmbedding` property on the nodes.\n",
        "* Set both the source node filter and the target node filter to include only `Author` nodes, not `Article` nodes.\n",
        "* Find the top 3 most similar nodes for each Author node.\n",
        "* Use a similarity cutoff of 0.75.\n",
        "* Call your new relationship `HAS_SIMILAR_EMBEDDING` and your new property `similarity`."
      ]
    },
    {
      "cell_type": "code",
      "source": [
        "# Your code here"
      ],
      "metadata": {
        "id": "FmfF3Ml3XZdQ"
      },
      "id": "FmfF3Ml3XZdQ",
      "execution_count": null,
      "outputs": []
    },
    {
      "cell_type": "code",
      "execution_count": null,
      "id": "1adc1a2f",
      "metadata": {
        "id": "1adc1a2f",
        "cellView": "form"
      },
      "outputs": [],
      "source": [
        "#@title Solution:\n",
        "knn_result_df  = gds.knn.filtered.mutate(g_article_authors,\n",
        "                                         relationshipTypes = [\"WROTE_UNDIRECTED\"],\n",
        "                                         nodeProperties = \"fastRPEmbedding\",\n",
        "                                         initialSampler = \"randomWalk\",\n",
        "                                         sourceNodeFilter = \"Author\",\n",
        "                                         targetNodeFilter = \"Author\",\n",
        "                                         topK = 3,\n",
        "                                         similarityCutoff = 0.75,\n",
        "                                         mutateRelationshipType = \"HAS_SIMILAR_EMBEDDING\",\n",
        "                                         mutateProperty = \"similarity\")\n",
        "knn_result_df"
      ]
    },
    {
      "cell_type": "markdown",
      "source": [
        "### 4.2.4 Compare embedding based similarity with neighborhood based similarity\n",
        "\n",
        "Stream a dataframe that contains both the `HAS_SIMILAR_EMBEDDING` and `HAS_SIMILAR_NEIGHBORS` relationships so that we can compare."
      ],
      "metadata": {
        "id": "_bFSG5tvXiUo"
      },
      "id": "_bFSG5tvXiUo"
    },
    {
      "cell_type": "code",
      "source": [
        "similarity_df = gds.graph.relationshipProperties.stream(g_article_authors, \"similarity\", [\"HAS_SIMILAR_EMBEDDING\", \"HAS_SIMILAR_NEIGHBORS\"])"
      ],
      "metadata": {
        "id": "bEZQLCOuPN5i"
      },
      "id": "bEZQLCOuPN5i",
      "execution_count": null,
      "outputs": []
    },
    {
      "cell_type": "markdown",
      "source": [
        "I had an AI assistant write code to reshape the dataframe according to this prompt:\n",
        "\n",
        "\n",
        "> I have a pandas dataframe called similarity_df. It has columns sourceNodeId, targetNodeId, relationshipType, and propertyValue. The relationship type column has two values: HAS_SIMILAR_EMBEDDING and HAS_SIMILAR_NEIGHBORS. I would like to reshape the data so that it has three columns: sourceNodeId, HAS_SIMILAR_EMBEDDING, and HAS_SIMILAR_NEIGHBORS. In the has SIMILAR_EMBEDDING and HAS_SIMILAR_NEIGHBORS columns, there should be a list of tuples. The first value in the tuple should be the value of targetNodeId. The second value in the tuple should be the value of propertyValue. The list should be sorted in descending order of propertyValue.\n",
        "\n"
      ],
      "metadata": {
        "id": "pQdKvh04YE5p"
      },
      "id": "pQdKvh04YE5p"
    },
    {
      "cell_type": "code",
      "source": [
        "# First, I'll create a dictionary to collect the data\n",
        "grouped_data = defaultdict(lambda: {\"HAS_SIMILAR_EMBEDDING\": [], \"HAS_SIMILAR_NEIGHBORS\": []})\n",
        "\n",
        "# Iterate through the DataFrame rows to organize data\n",
        "for _, row in similarity_df.iterrows():\n",
        "    source = row['sourceNodeId']\n",
        "    target = row['targetNodeId']\n",
        "    rel_type = row['relationshipType']\n",
        "    prop_value = row['propertyValue']\n",
        "\n",
        "    # Add the tuple to the appropriate list\n",
        "    grouped_data[source][rel_type].append((target, prop_value))\n",
        "\n",
        "# Sort each list by propertyValue in descending order\n",
        "for source in grouped_data:\n",
        "    for rel_type in grouped_data[source]:\n",
        "        grouped_data[source][rel_type].sort(key=lambda x: x[1], reverse=True)\n",
        "\n",
        "# Create a new DataFrame from the collected data\n",
        "result_df = pd.DataFrame([\n",
        "    {\n",
        "        'sourceNodeId': source,\n",
        "        'HAS_SIMILAR_EMBEDDING': data['HAS_SIMILAR_EMBEDDING'],\n",
        "        'HAS_SIMILAR_NEIGHBORS': data['HAS_SIMILAR_NEIGHBORS']\n",
        "    }\n",
        "    for source, data in grouped_data.items()\n",
        "])\n",
        "\n",
        "# The result_df now has the desired structure"
      ],
      "metadata": {
        "id": "_biG5KHpQbdl"
      },
      "id": "_biG5KHpQbdl",
      "execution_count": null,
      "outputs": []
    },
    {
      "cell_type": "markdown",
      "source": [
        "We have a lot more `HAS_SIMILAR_EMBEDDING` relationships than `HAS_SIMILAR_NEIGHBORS` relationships because we required authors to have written at least 4 articles before computing `HAS_SIMILAR_NEIGHBORS`. Filter the dataframe to only those where HAS_SIMILAR_NEIGHBORS is not a zero-length list.\n",
        "\n",
        "Take a look at some of these results in Neo4j Browser with a Cypher query like this one: `MATCH p = (n)-[:WROTE]->() WHERE id(n) IN [591477, 591479] RETURN p`"
      ],
      "metadata": {
        "id": "RU3oB4dBYbU7"
      },
      "id": "RU3oB4dBYbU7"
    },
    {
      "cell_type": "code",
      "source": [
        "result_df[result_df['HAS_SIMILAR_NEIGHBORS'].map(lambda x: len(x)) > 0].head(20)"
      ],
      "metadata": {
        "id": "_2X11LA9UZyA"
      },
      "id": "_2X11LA9UZyA",
      "execution_count": null,
      "outputs": []
    },
    {
      "cell_type": "markdown",
      "id": "c2c6eb46",
      "metadata": {
        "id": "c2c6eb46"
      },
      "source": [
        "## Clean up session."
      ]
    },
    {
      "cell_type": "code",
      "execution_count": null,
      "id": "58395dfb",
      "metadata": {
        "id": "58395dfb"
      },
      "outputs": [],
      "source": [
        "sessions.delete(session_id=\"algorithm_lab\")"
      ]
    },
    {
      "cell_type": "code",
      "source": [],
      "metadata": {
        "id": "SiJVZkUxaqWm"
      },
      "id": "SiJVZkUxaqWm",
      "execution_count": null,
      "outputs": []
    }
  ],
  "metadata": {
    "kernelspec": {
      "display_name": "Python 3 (ipykernel)",
      "language": "python",
      "name": "python3"
    },
    "language_info": {
      "codemirror_mode": {
        "name": "ipython",
        "version": 3
      },
      "file_extension": ".py",
      "mimetype": "text/x-python",
      "name": "python",
      "nbconvert_exporter": "python",
      "pygments_lexer": "ipython3",
      "version": "3.8.13"
    },
    "colab": {
      "provenance": [],
      "toc_visible": true
    }
  },
  "nbformat": 4,
  "nbformat_minor": 5
}